{
 "cells": [
  {
   "cell_type": "code",
   "execution_count": 1,
   "metadata": {
    "ExecuteTime": {
     "end_time": "2021-04-16T11:16:05.357787Z",
     "start_time": "2021-04-16T11:16:01.007855Z"
    },
    "scrolled": false
   },
   "outputs": [
    {
     "data": {
      "text/html": [
       "<style>.container { width:70% !important; }</style>"
      ],
      "text/plain": [
       "<IPython.core.display.HTML object>"
      ]
     },
     "metadata": {},
     "output_type": "display_data"
    },
    {
     "name": "stdout",
     "output_type": "stream",
     "text": [
      "Growth SET\n",
      "GPU ACTIVE\n",
      "{'limit': 15, 'remaining': 15, 'reset': 1618572664}\n",
      "{'limit': 900, 'remaining': 900, 'reset': 1618572664}\n",
      "sentimentDB exists.\n",
      "Database(MongoClient(host=['localhost:27017'], document_class=dict, tz_aware=False, connect=True), 'sentimentDB')\n"
     ]
    }
   ],
   "source": [
    "%run StoreTweetsBackend.ipynb"
   ]
  },
  {
   "cell_type": "code",
   "execution_count": 2,
   "metadata": {
    "ExecuteTime": {
     "end_time": "2021-04-16T11:17:29.811292Z",
     "start_time": "2021-04-16T11:17:29.799324Z"
    }
   },
   "outputs": [],
   "source": [
    "twt=10000"
   ]
  },
  {
   "cell_type": "code",
   "execution_count": 3,
   "metadata": {
    "ExecuteTime": {
     "end_time": "2021-04-16T17:34:04.804536Z",
     "start_time": "2021-04-16T11:17:32.095208Z"
    },
    "code_folding": [],
    "scrolled": true
   },
   "outputs": [
    {
     "name": "stdout",
     "output_type": "stream",
     "text": [
      "Apple :  10000\n",
      "2021-03-16 \t 2021-03-17\n",
      "End Reached\n",
      "AAPL\tEntries: 0\tUpdated: 0\tNew: 0\n",
      "2021-03-17 \t 2021-03-18\n",
      "End Reached\n",
      "AAPL\tEntries: 0\tUpdated: 0\tNew: 0\n",
      "2021-03-18 \t 2021-03-19\n",
      "End Reached\n",
      "AAPL\tEntries: 0\tUpdated: 0\tNew: 0\n",
      "2021-03-19 \t 2021-03-20\n",
      "End Reached\n",
      "AAPL\tEntries: 0\tUpdated: 0\tNew: 0\n",
      "2021-03-20 \t 2021-03-21\n"
     ]
    },
    {
     "name": "stderr",
     "output_type": "stream",
     "text": [
      "Rate limit reached. Sleeping for: 58\n"
     ]
    },
    {
     "name": "stdout",
     "output_type": "stream",
     "text": [
      "End Reached\n",
      "AAPL\tEntries: 0\tUpdated: 0\tNew: 0\n",
      "2021-03-21 \t 2021-03-22\n",
      "End Reached\n",
      "AAPL\tEntries: 0\tUpdated: 0\tNew: 0\n",
      "2021-03-22 \t 2021-03-23\n",
      "End Reached\n",
      "AAPL\tEntries: 0\tUpdated: 0\tNew: 0\n",
      "2021-03-23 \t 2021-03-24\n",
      "End Reached\n",
      "AAPL\tEntries: 0\tUpdated: 0\tNew: 0\n",
      "2021-03-24 \t 2021-03-25\n",
      "End Reached\n",
      "AAPL\tEntries: 0\tUpdated: 0\tNew: 0\n",
      "2021-03-25 \t 2021-03-26\n",
      "End Reached\n",
      "AAPL\tEntries: 0\tUpdated: 0\tNew: 0\n",
      "2021-03-26 \t 2021-03-27\n",
      "End Reached\n",
      "AAPL\tEntries: 0\tUpdated: 0\tNew: 0\n",
      "2021-03-27 \t 2021-03-28\n",
      "End Reached\n",
      "AAPL\tEntries: 0\tUpdated: 0\tNew: 0\n",
      "2021-03-28 \t 2021-03-29\n",
      "End Reached\n",
      "AAPL\tEntries: 0\tUpdated: 0\tNew: 0\n",
      "2021-03-29 \t 2021-03-30\n",
      "End Reached\n",
      "AAPL\tEntries: 0\tUpdated: 0\tNew: 0\n",
      "2021-03-30 \t 2021-03-31\n",
      "End Reached\n",
      "AAPL\tEntries: 0\tUpdated: 0\tNew: 0\n",
      "2021-03-31 \t 2021-04-01\n",
      "End Reached\n",
      "AAPL\tEntries: 0\tUpdated: 0\tNew: 0\n",
      "2021-04-01 \t 2021-04-02\n",
      "End Reached\n",
      "AAPL\tEntries: 0\tUpdated: 0\tNew: 0\n",
      "2021-04-02 \t 2021-04-03\n",
      "End Reached\n",
      "AAPL\tEntries: 0\tUpdated: 0\tNew: 0\n",
      "2021-04-03 \t 2021-04-04\n",
      "End Reached\n",
      "AAPL\tEntries: 0\tUpdated: 0\tNew: 0\n",
      "2021-04-04 \t 2021-04-05\n",
      "End Reached\n",
      "AAPL\tEntries: 0\tUpdated: 0\tNew: 0\n",
      "2021-04-05 \t 2021-04-06\n",
      "End Reached\n",
      "AAPL\tEntries: 0\tUpdated: 0\tNew: 0\n",
      "2021-04-06 \t 2021-04-07\n",
      "End Reached\n",
      "AAPL\tEntries: 0\tUpdated: 0\tNew: 0\n",
      "2021-04-07 \t 2021-04-08\n",
      "End Reached\n",
      "AAPL\tEntries: 0\tUpdated: 0\tNew: 0\n",
      "2021-04-08 \t 2021-04-09\n",
      "End Reached\n",
      "AAPL\tEntries: 3716\tUpdated: 3715\tNew: 1\n",
      "2021-04-09 \t 2021-04-10\n"
     ]
    },
    {
     "name": "stderr",
     "output_type": "stream",
     "text": [
      "Rate limit reached. Sleeping for: 487\n"
     ]
    },
    {
     "name": "stdout",
     "output_type": "stream",
     "text": [
      "End Reached\n",
      "AAPL\tEntries: 5969\tUpdated: 5959\tNew: 10\n",
      "2021-04-10 \t 2021-04-11\n"
     ]
    },
    {
     "name": "stderr",
     "output_type": "stream",
     "text": [
      "Rate limit reached. Sleeping for: 505\n"
     ]
    },
    {
     "name": "stdout",
     "output_type": "stream",
     "text": [
      "End Reached\n",
      "AAPL\tEntries: 3424\tUpdated: 3418\tNew: 6\n",
      "2021-04-11 \t 2021-04-12\n"
     ]
    },
    {
     "name": "stderr",
     "output_type": "stream",
     "text": [
      "Rate limit reached. Sleeping for: 499\n"
     ]
    },
    {
     "name": "stdout",
     "output_type": "stream",
     "text": [
      "End Reached\n",
      "AAPL\tEntries: 2975\tUpdated: 2969\tNew: 6\n",
      "2021-04-12 \t 2021-04-13\n",
      "End Reached\n",
      "AAPL\tEntries: 4661\tUpdated: 4632\tNew: 29\n",
      "2021-04-13 \t 2021-04-14\n"
     ]
    },
    {
     "name": "stderr",
     "output_type": "stream",
     "text": [
      "Rate limit reached. Sleeping for: 495\n",
      "Rate limit reached. Sleeping for: 482\n"
     ]
    },
    {
     "name": "stdout",
     "output_type": "stream",
     "text": [
      "End Reached\n",
      "AAPL\tEntries: 5499\tUpdated: 5437\tNew: 62\n",
      "2021-04-14 \t 2021-04-15\n"
     ]
    },
    {
     "name": "stderr",
     "output_type": "stream",
     "text": [
      "Rate limit reached. Sleeping for: 502\n"
     ]
    },
    {
     "name": "stdout",
     "output_type": "stream",
     "text": [
      "End Reached\n",
      "AAPL\tEntries: 5123\tUpdated: 5029\tNew: 94\n",
      "2021-04-15 \t 2021-04-16\n"
     ]
    },
    {
     "name": "stderr",
     "output_type": "stream",
     "text": [
      "Rate limit reached. Sleeping for: 492\n"
     ]
    },
    {
     "name": "stdout",
     "output_type": "stream",
     "text": [
      "End Reached\n",
      "AAPL\tEntries: 5179\tUpdated: 45\tNew: 5134\n",
      "Tesla :  10000\n",
      "2021-03-16 \t 2021-03-17\n",
      "End Reached\n",
      "TSLA\tEntries: 0\tUpdated: 0\tNew: 0\n",
      "2021-03-17 \t 2021-03-18\n",
      "End Reached\n",
      "TSLA\tEntries: 0\tUpdated: 0\tNew: 0\n",
      "2021-03-18 \t 2021-03-19\n",
      "End Reached\n",
      "TSLA\tEntries: 0\tUpdated: 0\tNew: 0\n",
      "2021-03-19 \t 2021-03-20\n",
      "End Reached\n",
      "TSLA\tEntries: 0\tUpdated: 0\tNew: 0\n",
      "2021-03-20 \t 2021-03-21\n",
      "End Reached\n",
      "TSLA\tEntries: 0\tUpdated: 0\tNew: 0\n",
      "2021-03-21 \t 2021-03-22\n",
      "End Reached\n",
      "TSLA\tEntries: 0\tUpdated: 0\tNew: 0\n",
      "2021-03-22 \t 2021-03-23\n",
      "End Reached\n",
      "TSLA\tEntries: 0\tUpdated: 0\tNew: 0\n",
      "2021-03-23 \t 2021-03-24\n",
      "End Reached\n",
      "TSLA\tEntries: 0\tUpdated: 0\tNew: 0\n",
      "2021-03-24 \t 2021-03-25\n",
      "End Reached\n",
      "TSLA\tEntries: 0\tUpdated: 0\tNew: 0\n",
      "2021-03-25 \t 2021-03-26\n",
      "End Reached\n",
      "TSLA\tEntries: 0\tUpdated: 0\tNew: 0\n",
      "2021-03-26 \t 2021-03-27\n",
      "End Reached\n",
      "TSLA\tEntries: 0\tUpdated: 0\tNew: 0\n",
      "2021-03-27 \t 2021-03-28\n",
      "End Reached\n",
      "TSLA\tEntries: 0\tUpdated: 0\tNew: 0\n",
      "2021-03-28 \t 2021-03-29\n",
      "End Reached\n",
      "TSLA\tEntries: 0\tUpdated: 0\tNew: 0\n",
      "2021-03-29 \t 2021-03-30\n",
      "End Reached\n",
      "TSLA\tEntries: 0\tUpdated: 0\tNew: 0\n",
      "2021-03-30 \t 2021-03-31\n",
      "End Reached\n",
      "TSLA\tEntries: 0\tUpdated: 0\tNew: 0\n",
      "2021-03-31 \t 2021-04-01\n",
      "End Reached\n",
      "TSLA\tEntries: 0\tUpdated: 0\tNew: 0\n",
      "2021-04-01 \t 2021-04-02\n",
      "End Reached\n",
      "TSLA\tEntries: 0\tUpdated: 0\tNew: 0\n",
      "2021-04-02 \t 2021-04-03\n",
      "End Reached\n",
      "TSLA\tEntries: 0\tUpdated: 0\tNew: 0\n",
      "2021-04-03 \t 2021-04-04\n",
      "End Reached\n",
      "TSLA\tEntries: 0\tUpdated: 0\tNew: 0\n",
      "2021-04-04 \t 2021-04-05\n",
      "End Reached\n",
      "TSLA\tEntries: 0\tUpdated: 0\tNew: 0\n",
      "2021-04-05 \t 2021-04-06\n",
      "End Reached\n",
      "TSLA\tEntries: 0\tUpdated: 0\tNew: 0\n",
      "2021-04-06 \t 2021-04-07\n",
      "End Reached\n",
      "TSLA\tEntries: 0\tUpdated: 0\tNew: 0\n",
      "2021-04-07 \t 2021-04-08\n",
      "End Reached\n",
      "TSLA\tEntries: 0\tUpdated: 0\tNew: 0\n",
      "2021-04-08 \t 2021-04-09\n",
      "End Reached\n",
      "TSLA\tEntries: 446\tUpdated: 446\tNew: 0\n",
      "2021-04-09 \t 2021-04-10\n",
      "End Reached\n",
      "TSLA\tEntries: 574\tUpdated: 574\tNew: 0\n",
      "2021-04-10 \t 2021-04-11\n",
      "End Reached\n",
      "TSLA\tEntries: 435\tUpdated: 435\tNew: 0\n",
      "2021-04-11 \t 2021-04-12\n",
      "End Reached\n",
      "TSLA\tEntries: 389\tUpdated: 389\tNew: 0\n",
      "2021-04-12 \t 2021-04-13\n",
      "End Reached\n",
      "TSLA\tEntries: 653\tUpdated: 652\tNew: 1\n",
      "2021-04-13 \t 2021-04-14\n",
      "End Reached\n",
      "TSLA\tEntries: 612\tUpdated: 612\tNew: 0\n",
      "2021-04-14 \t 2021-04-15\n",
      "End Reached\n",
      "TSLA\tEntries: 556\tUpdated: 556\tNew: 0\n",
      "2021-04-15 \t 2021-04-16\n",
      "End Reached\n",
      "TSLA\tEntries: 578\tUpdated: 571\tNew: 7\n",
      "Microsoft :  10000\n",
      "2021-03-16 \t 2021-03-17\n",
      "End Reached\n",
      "MSFT\tEntries: 0\tUpdated: 0\tNew: 0\n",
      "2021-03-17 \t 2021-03-18\n",
      "End Reached\n",
      "MSFT\tEntries: 0\tUpdated: 0\tNew: 0\n",
      "2021-03-18 \t 2021-03-19\n",
      "End Reached\n",
      "MSFT\tEntries: 0\tUpdated: 0\tNew: 0\n",
      "2021-03-19 \t 2021-03-20\n",
      "End Reached\n",
      "MSFT\tEntries: 0\tUpdated: 0\tNew: 0\n",
      "2021-03-20 \t 2021-03-21\n",
      "End Reached\n",
      "MSFT\tEntries: 0\tUpdated: 0\tNew: 0\n",
      "2021-03-21 \t 2021-03-22\n",
      "End Reached\n",
      "MSFT\tEntries: 0\tUpdated: 0\tNew: 0\n",
      "2021-03-22 \t 2021-03-23\n",
      "End Reached\n",
      "MSFT\tEntries: 0\tUpdated: 0\tNew: 0\n",
      "2021-03-23 \t 2021-03-24\n",
      "End Reached\n",
      "MSFT\tEntries: 0\tUpdated: 0\tNew: 0\n",
      "2021-03-24 \t 2021-03-25\n",
      "End Reached\n",
      "MSFT\tEntries: 0\tUpdated: 0\tNew: 0\n",
      "2021-03-25 \t 2021-03-26\n",
      "End Reached\n",
      "MSFT\tEntries: 0\tUpdated: 0\tNew: 0\n",
      "2021-03-26 \t 2021-03-27\n",
      "End Reached\n",
      "MSFT\tEntries: 0\tUpdated: 0\tNew: 0\n",
      "2021-03-27 \t 2021-03-28\n",
      "End Reached\n",
      "MSFT\tEntries: 0\tUpdated: 0\tNew: 0\n",
      "2021-03-28 \t 2021-03-29\n",
      "End Reached\n",
      "MSFT\tEntries: 0\tUpdated: 0\tNew: 0\n",
      "2021-03-29 \t 2021-03-30\n",
      "End Reached\n",
      "MSFT\tEntries: 0\tUpdated: 0\tNew: 0\n",
      "2021-03-30 \t 2021-03-31\n",
      "End Reached\n",
      "MSFT\tEntries: 0\tUpdated: 0\tNew: 0\n",
      "2021-03-31 \t 2021-04-01\n",
      "End Reached\n",
      "MSFT\tEntries: 0\tUpdated: 0\tNew: 0\n",
      "2021-04-01 \t 2021-04-02\n",
      "End Reached\n",
      "MSFT\tEntries: 0\tUpdated: 0\tNew: 0\n",
      "2021-04-02 \t 2021-04-03\n",
      "End Reached\n",
      "MSFT\tEntries: 0\tUpdated: 0\tNew: 0\n",
      "2021-04-03 \t 2021-04-04\n",
      "End Reached\n",
      "MSFT\tEntries: 0\tUpdated: 0\tNew: 0\n",
      "2021-04-04 \t 2021-04-05\n",
      "End Reached\n",
      "MSFT\tEntries: 0\tUpdated: 0\tNew: 0\n",
      "2021-04-05 \t 2021-04-06\n",
      "End Reached\n",
      "MSFT\tEntries: 0\tUpdated: 0\tNew: 0\n",
      "2021-04-06 \t 2021-04-07\n",
      "End Reached\n",
      "MSFT\tEntries: 0\tUpdated: 0\tNew: 0\n",
      "2021-04-07 \t 2021-04-08\n",
      "End Reached\n",
      "MSFT\tEntries: 0\tUpdated: 0\tNew: 0\n",
      "2021-04-08 \t 2021-04-09\n"
     ]
    },
    {
     "name": "stderr",
     "output_type": "stream",
     "text": [
      "Rate limit reached. Sleeping for: 514\n",
      "Rate limit reached. Sleeping for: 5\n"
     ]
    },
    {
     "name": "stdout",
     "output_type": "stream",
     "text": [
      "End Reached\n",
      "MSFT\tEntries: 576\tUpdated: 576\tNew: 0\n",
      "2021-04-09 \t 2021-04-10\n",
      "End Reached\n",
      "MSFT\tEntries: 690\tUpdated: 690\tNew: 0\n",
      "2021-04-10 \t 2021-04-11\n",
      "End Reached\n",
      "MSFT\tEntries: 397\tUpdated: 397\tNew: 0\n",
      "2021-04-11 \t 2021-04-12\n",
      "End Reached\n",
      "MSFT\tEntries: 416\tUpdated: 416\tNew: 0\n",
      "2021-04-12 \t 2021-04-13\n",
      "End Reached\n",
      "MSFT\tEntries: 1242\tUpdated: 1242\tNew: 0\n",
      "2021-04-13 \t 2021-04-14\n",
      "End Reached\n",
      "MSFT\tEntries: 1219\tUpdated: 1218\tNew: 1\n",
      "2021-04-14 \t 2021-04-15\n"
     ]
    },
    {
     "name": "stderr",
     "output_type": "stream",
     "text": [
      "Rate limit reached. Sleeping for: 494\n"
     ]
    },
    {
     "name": "stdout",
     "output_type": "stream",
     "text": [
      "End Reached\n",
      "MSFT\tEntries: 1081\tUpdated: 1078\tNew: 3\n",
      "2021-04-15 \t 2021-04-16\n",
      "End Reached\n",
      "MSFT\tEntries: 836\tUpdated: 825\tNew: 11\n",
      "AMD :  10000\n",
      "2021-03-16 \t 2021-03-17\n",
      "End Reached\n",
      "AMD\tEntries: 0\tUpdated: 0\tNew: 0\n",
      "2021-03-17 \t 2021-03-18\n",
      "End Reached\n",
      "AMD\tEntries: 0\tUpdated: 0\tNew: 0\n",
      "2021-03-18 \t 2021-03-19\n",
      "End Reached\n",
      "AMD\tEntries: 0\tUpdated: 0\tNew: 0\n",
      "2021-03-19 \t 2021-03-20\n",
      "End Reached\n",
      "AMD\tEntries: 0\tUpdated: 0\tNew: 0\n",
      "2021-03-20 \t 2021-03-21\n",
      "End Reached\n",
      "AMD\tEntries: 0\tUpdated: 0\tNew: 0\n",
      "2021-03-21 \t 2021-03-22\n",
      "End Reached\n",
      "AMD\tEntries: 0\tUpdated: 0\tNew: 0\n",
      "2021-03-22 \t 2021-03-23\n",
      "End Reached\n",
      "AMD\tEntries: 0\tUpdated: 0\tNew: 0\n",
      "2021-03-23 \t 2021-03-24\n",
      "End Reached\n",
      "AMD\tEntries: 0\tUpdated: 0\tNew: 0\n",
      "2021-03-24 \t 2021-03-25\n",
      "End Reached\n",
      "AMD\tEntries: 0\tUpdated: 0\tNew: 0\n",
      "2021-03-25 \t 2021-03-26\n",
      "End Reached\n",
      "AMD\tEntries: 0\tUpdated: 0\tNew: 0\n",
      "2021-03-26 \t 2021-03-27\n",
      "End Reached\n",
      "AMD\tEntries: 0\tUpdated: 0\tNew: 0\n",
      "2021-03-27 \t 2021-03-28\n",
      "End Reached\n",
      "AMD\tEntries: 0\tUpdated: 0\tNew: 0\n",
      "2021-03-28 \t 2021-03-29\n",
      "End Reached\n",
      "AMD\tEntries: 0\tUpdated: 0\tNew: 0\n",
      "2021-03-29 \t 2021-03-30\n",
      "End Reached\n",
      "AMD\tEntries: 0\tUpdated: 0\tNew: 0\n",
      "2021-03-30 \t 2021-03-31\n",
      "End Reached\n",
      "AMD\tEntries: 0\tUpdated: 0\tNew: 0\n",
      "2021-03-31 \t 2021-04-01\n",
      "End Reached\n",
      "AMD\tEntries: 0\tUpdated: 0\tNew: 0\n",
      "2021-04-01 \t 2021-04-02\n",
      "End Reached\n",
      "AMD\tEntries: 0\tUpdated: 0\tNew: 0\n",
      "2021-04-02 \t 2021-04-03\n",
      "End Reached\n",
      "AMD\tEntries: 0\tUpdated: 0\tNew: 0\n",
      "2021-04-03 \t 2021-04-04\n",
      "End Reached\n",
      "AMD\tEntries: 0\tUpdated: 0\tNew: 0\n",
      "2021-04-04 \t 2021-04-05\n",
      "End Reached\n",
      "AMD\tEntries: 0\tUpdated: 0\tNew: 0\n",
      "2021-04-05 \t 2021-04-06\n",
      "End Reached\n",
      "AMD\tEntries: 0\tUpdated: 0\tNew: 0\n",
      "2021-04-06 \t 2021-04-07\n",
      "End Reached\n",
      "AMD\tEntries: 0\tUpdated: 0\tNew: 0\n",
      "2021-04-07 \t 2021-04-08\n",
      "End Reached\n",
      "AMD\tEntries: 0\tUpdated: 0\tNew: 0\n",
      "2021-04-08 \t 2021-04-09\n",
      "End Reached\n",
      "AMD\tEntries: 111\tUpdated: 111\tNew: 0\n",
      "2021-04-09 \t 2021-04-10\n",
      "End Reached\n",
      "AMD\tEntries: 145\tUpdated: 145\tNew: 0\n",
      "2021-04-10 \t 2021-04-11\n",
      "End Reached\n",
      "AMD\tEntries: 118\tUpdated: 118\tNew: 0\n",
      "2021-04-11 \t 2021-04-12\n",
      "End Reached\n",
      "AMD\tEntries: 126\tUpdated: 126\tNew: 0\n",
      "2021-04-12 \t 2021-04-13\n",
      "End Reached\n",
      "AMD\tEntries: 140\tUpdated: 139\tNew: 1\n",
      "2021-04-13 \t 2021-04-14\n",
      "End Reached\n",
      "AMD\tEntries: 192\tUpdated: 192\tNew: 0\n",
      "2021-04-14 \t 2021-04-15\n",
      "End Reached\n",
      "AMD\tEntries: 180\tUpdated: 179\tNew: 1\n",
      "2021-04-15 \t 2021-04-16\n",
      "End Reached\n",
      "AMD\tEntries: 155\tUpdated: 154\tNew: 1\n",
      "Bed Bath and Beyond :  10000\n",
      "2021-03-16 \t 2021-03-17\n",
      "End Reached\n",
      "BBBY\tEntries: 0\tUpdated: 0\tNew: 0\n",
      "2021-03-17 \t 2021-03-18\n",
      "End Reached\n",
      "BBBY\tEntries: 0\tUpdated: 0\tNew: 0\n",
      "2021-03-18 \t 2021-03-19\n",
      "End Reached\n",
      "BBBY\tEntries: 0\tUpdated: 0\tNew: 0\n",
      "2021-03-19 \t 2021-03-20\n",
      "End Reached\n",
      "BBBY\tEntries: 0\tUpdated: 0\tNew: 0\n",
      "2021-03-20 \t 2021-03-21\n",
      "End Reached\n",
      "BBBY\tEntries: 0\tUpdated: 0\tNew: 0\n",
      "2021-03-21 \t 2021-03-22\n",
      "End Reached\n",
      "BBBY\tEntries: 0\tUpdated: 0\tNew: 0\n",
      "2021-03-22 \t 2021-03-23\n",
      "End Reached\n",
      "BBBY\tEntries: 0\tUpdated: 0\tNew: 0\n",
      "2021-03-23 \t 2021-03-24\n",
      "End Reached\n",
      "BBBY\tEntries: 0\tUpdated: 0\tNew: 0\n",
      "2021-03-24 \t 2021-03-25\n",
      "End Reached\n",
      "BBBY\tEntries: 0\tUpdated: 0\tNew: 0\n",
      "2021-03-25 \t 2021-03-26\n",
      "End Reached\n",
      "BBBY\tEntries: 0\tUpdated: 0\tNew: 0\n",
      "2021-03-26 \t 2021-03-27\n",
      "End Reached\n",
      "BBBY\tEntries: 0\tUpdated: 0\tNew: 0\n",
      "2021-03-27 \t 2021-03-28\n",
      "End Reached\n",
      "BBBY\tEntries: 0\tUpdated: 0\tNew: 0\n",
      "2021-03-28 \t 2021-03-29\n",
      "End Reached\n",
      "BBBY\tEntries: 0\tUpdated: 0\tNew: 0\n",
      "2021-03-29 \t 2021-03-30\n",
      "End Reached\n",
      "BBBY\tEntries: 0\tUpdated: 0\tNew: 0\n",
      "2021-03-30 \t 2021-03-31\n",
      "End Reached\n",
      "BBBY\tEntries: 0\tUpdated: 0\tNew: 0\n",
      "2021-03-31 \t 2021-04-01\n",
      "End Reached\n",
      "BBBY\tEntries: 0\tUpdated: 0\tNew: 0\n",
      "2021-04-01 \t 2021-04-02\n",
      "End Reached\n",
      "BBBY\tEntries: 0\tUpdated: 0\tNew: 0\n",
      "2021-04-02 \t 2021-04-03\n",
      "End Reached\n",
      "BBBY\tEntries: 0\tUpdated: 0\tNew: 0\n",
      "2021-04-03 \t 2021-04-04\n",
      "End Reached\n",
      "BBBY\tEntries: 0\tUpdated: 0\tNew: 0\n",
      "2021-04-04 \t 2021-04-05\n",
      "End Reached\n",
      "BBBY\tEntries: 0\tUpdated: 0\tNew: 0\n",
      "2021-04-05 \t 2021-04-06\n",
      "End Reached\n",
      "BBBY\tEntries: 0\tUpdated: 0\tNew: 0\n",
      "2021-04-06 \t 2021-04-07\n",
      "End Reached\n",
      "BBBY\tEntries: 0\tUpdated: 0\tNew: 0\n",
      "2021-04-07 \t 2021-04-08\n",
      "End Reached\n",
      "BBBY\tEntries: 0\tUpdated: 0\tNew: 0\n",
      "2021-04-08 \t 2021-04-09\n",
      "End Reached\n",
      "BBBY\tEntries: 3\tUpdated: 3\tNew: 0\n",
      "2021-04-09 \t 2021-04-10\n",
      "End Reached\n",
      "BBBY\tEntries: 1\tUpdated: 1\tNew: 0\n",
      "2021-04-10 \t 2021-04-11\n",
      "End Reached\n",
      "BBBY\tEntries: 1\tUpdated: 1\tNew: 0\n",
      "2021-04-11 \t 2021-04-12\n",
      "End Reached\n",
      "BBBY\tEntries: 1\tUpdated: 1\tNew: 0\n",
      "2021-04-12 \t 2021-04-13\n",
      "End Reached\n",
      "BBBY\tEntries: 5\tUpdated: 5\tNew: 0\n",
      "2021-04-13 \t 2021-04-14\n",
      "End Reached\n",
      "BBBY\tEntries: 4\tUpdated: 4\tNew: 0\n",
      "2021-04-14 \t 2021-04-15\n",
      "End Reached\n",
      "BBBY\tEntries: 10\tUpdated: 10\tNew: 0\n",
      "2021-04-15 \t 2021-04-16\n",
      "End Reached\n",
      "BBBY\tEntries: 1\tUpdated: 1\tNew: 0\n"
     ]
    },
    {
     "name": "stderr",
     "output_type": "stream",
     "text": [
      "Rate limit reached. Sleeping for: 352\n",
      "Rate limit reached. Sleeping for: 374\n",
      "Rate limit reached. Sleeping for: 327\n",
      "Rate limit reached. Sleeping for: 371\n"
     ]
    },
    {
     "name": "stdout",
     "output_type": "stream",
     "text": [
      "AAPL\tEntries: 20000\tUpdated: 19957\tNew: 43\n"
     ]
    },
    {
     "name": "stderr",
     "output_type": "stream",
     "text": [
      "Rate limit reached. Sleeping for: 257\n"
     ]
    },
    {
     "name": "stdout",
     "output_type": "stream",
     "text": [
      "End Reached\n",
      "TSLA\tEntries: 4250\tUpdated: 4243\tNew: 7\n"
     ]
    },
    {
     "name": "stderr",
     "output_type": "stream",
     "text": [
      "Rate limit reached. Sleeping for: 296\n"
     ]
    },
    {
     "name": "stdout",
     "output_type": "stream",
     "text": [
      "End Reached\n",
      "MSFT\tEntries: 6462\tUpdated: 6449\tNew: 13\n",
      "End Reached\n",
      "AMD\tEntries: 1170\tUpdated: 1168\tNew: 2\n",
      "End Reached\n",
      "BBBY\tEntries: 26\tUpdated: 26\tNew: 0\n"
     ]
    },
    {
     "name": "stderr",
     "output_type": "stream",
     "text": [
      "Rate limit reached. Sleeping for: 353\n",
      "Rate limit reached. Sleeping for: 407\n",
      "Rate limit reached. Sleeping for: 436\n",
      "Rate limit reached. Sleeping for: 455\n",
      "Rate limit reached. Sleeping for: 405\n"
     ]
    },
    {
     "name": "stdout",
     "output_type": "stream",
     "text": [
      "End Reached\n",
      "AAPL\tEntries: 34209\tUpdated: 34161\tNew: 48\n"
     ]
    },
    {
     "ename": "TweepError",
     "evalue": "Failed to send request: HTTPSConnectionPool(host='api.twitter.com', port=443): Read timed out.",
     "output_type": "error",
     "traceback": [
      "\u001b[1;31m---------------------------------------------------------------------------\u001b[0m",
      "\u001b[1;31mtimeout\u001b[0m                                   Traceback (most recent call last)",
      "\u001b[1;32m~\\anaconda3\\lib\\site-packages\\urllib3\\response.py\u001b[0m in \u001b[0;36m_error_catcher\u001b[1;34m(self)\u001b[0m\n\u001b[0;32m    437\u001b[0m             \u001b[1;32mtry\u001b[0m\u001b[1;33m:\u001b[0m\u001b[1;33m\u001b[0m\u001b[1;33m\u001b[0m\u001b[0m\n\u001b[1;32m--> 438\u001b[1;33m                 \u001b[1;32myield\u001b[0m\u001b[1;33m\u001b[0m\u001b[1;33m\u001b[0m\u001b[0m\n\u001b[0m\u001b[0;32m    439\u001b[0m \u001b[1;33m\u001b[0m\u001b[0m\n",
      "\u001b[1;32m~\\anaconda3\\lib\\site-packages\\urllib3\\response.py\u001b[0m in \u001b[0;36mread\u001b[1;34m(self, amt, decode_content, cache_content)\u001b[0m\n\u001b[0;32m    518\u001b[0m                 \u001b[0mcache_content\u001b[0m \u001b[1;33m=\u001b[0m \u001b[1;32mFalse\u001b[0m\u001b[1;33m\u001b[0m\u001b[1;33m\u001b[0m\u001b[0m\n\u001b[1;32m--> 519\u001b[1;33m                 \u001b[0mdata\u001b[0m \u001b[1;33m=\u001b[0m \u001b[0mself\u001b[0m\u001b[1;33m.\u001b[0m\u001b[0m_fp\u001b[0m\u001b[1;33m.\u001b[0m\u001b[0mread\u001b[0m\u001b[1;33m(\u001b[0m\u001b[0mamt\u001b[0m\u001b[1;33m)\u001b[0m \u001b[1;32mif\u001b[0m \u001b[1;32mnot\u001b[0m \u001b[0mfp_closed\u001b[0m \u001b[1;32melse\u001b[0m \u001b[1;34mb\"\"\u001b[0m\u001b[1;33m\u001b[0m\u001b[1;33m\u001b[0m\u001b[0m\n\u001b[0m\u001b[0;32m    520\u001b[0m                 if (\n",
      "\u001b[1;32m~\\anaconda3\\lib\\http\\client.py\u001b[0m in \u001b[0;36mread\u001b[1;34m(self, amt)\u001b[0m\n\u001b[0;32m    457\u001b[0m             \u001b[0mb\u001b[0m \u001b[1;33m=\u001b[0m \u001b[0mbytearray\u001b[0m\u001b[1;33m(\u001b[0m\u001b[0mamt\u001b[0m\u001b[1;33m)\u001b[0m\u001b[1;33m\u001b[0m\u001b[1;33m\u001b[0m\u001b[0m\n\u001b[1;32m--> 458\u001b[1;33m             \u001b[0mn\u001b[0m \u001b[1;33m=\u001b[0m \u001b[0mself\u001b[0m\u001b[1;33m.\u001b[0m\u001b[0mreadinto\u001b[0m\u001b[1;33m(\u001b[0m\u001b[0mb\u001b[0m\u001b[1;33m)\u001b[0m\u001b[1;33m\u001b[0m\u001b[1;33m\u001b[0m\u001b[0m\n\u001b[0m\u001b[0;32m    459\u001b[0m             \u001b[1;32mreturn\u001b[0m \u001b[0mmemoryview\u001b[0m\u001b[1;33m(\u001b[0m\u001b[0mb\u001b[0m\u001b[1;33m)\u001b[0m\u001b[1;33m[\u001b[0m\u001b[1;33m:\u001b[0m\u001b[0mn\u001b[0m\u001b[1;33m]\u001b[0m\u001b[1;33m.\u001b[0m\u001b[0mtobytes\u001b[0m\u001b[1;33m(\u001b[0m\u001b[1;33m)\u001b[0m\u001b[1;33m\u001b[0m\u001b[1;33m\u001b[0m\u001b[0m\n",
      "\u001b[1;32m~\\anaconda3\\lib\\http\\client.py\u001b[0m in \u001b[0;36mreadinto\u001b[1;34m(self, b)\u001b[0m\n\u001b[0;32m    501\u001b[0m         \u001b[1;31m# (for example, reading in 1k chunks)\u001b[0m\u001b[1;33m\u001b[0m\u001b[1;33m\u001b[0m\u001b[1;33m\u001b[0m\u001b[0m\n\u001b[1;32m--> 502\u001b[1;33m         \u001b[0mn\u001b[0m \u001b[1;33m=\u001b[0m \u001b[0mself\u001b[0m\u001b[1;33m.\u001b[0m\u001b[0mfp\u001b[0m\u001b[1;33m.\u001b[0m\u001b[0mreadinto\u001b[0m\u001b[1;33m(\u001b[0m\u001b[0mb\u001b[0m\u001b[1;33m)\u001b[0m\u001b[1;33m\u001b[0m\u001b[1;33m\u001b[0m\u001b[0m\n\u001b[0m\u001b[0;32m    503\u001b[0m         \u001b[1;32mif\u001b[0m \u001b[1;32mnot\u001b[0m \u001b[0mn\u001b[0m \u001b[1;32mand\u001b[0m \u001b[0mb\u001b[0m\u001b[1;33m:\u001b[0m\u001b[1;33m\u001b[0m\u001b[1;33m\u001b[0m\u001b[0m\n",
      "\u001b[1;32m~\\anaconda3\\lib\\socket.py\u001b[0m in \u001b[0;36mreadinto\u001b[1;34m(self, b)\u001b[0m\n\u001b[0;32m    668\u001b[0m             \u001b[1;32mtry\u001b[0m\u001b[1;33m:\u001b[0m\u001b[1;33m\u001b[0m\u001b[1;33m\u001b[0m\u001b[0m\n\u001b[1;32m--> 669\u001b[1;33m                 \u001b[1;32mreturn\u001b[0m \u001b[0mself\u001b[0m\u001b[1;33m.\u001b[0m\u001b[0m_sock\u001b[0m\u001b[1;33m.\u001b[0m\u001b[0mrecv_into\u001b[0m\u001b[1;33m(\u001b[0m\u001b[0mb\u001b[0m\u001b[1;33m)\u001b[0m\u001b[1;33m\u001b[0m\u001b[1;33m\u001b[0m\u001b[0m\n\u001b[0m\u001b[0;32m    670\u001b[0m             \u001b[1;32mexcept\u001b[0m \u001b[0mtimeout\u001b[0m\u001b[1;33m:\u001b[0m\u001b[1;33m\u001b[0m\u001b[1;33m\u001b[0m\u001b[0m\n",
      "\u001b[1;32m~\\anaconda3\\lib\\ssl.py\u001b[0m in \u001b[0;36mrecv_into\u001b[1;34m(self, buffer, nbytes, flags)\u001b[0m\n\u001b[0;32m   1240\u001b[0m                   self.__class__)\n\u001b[1;32m-> 1241\u001b[1;33m             \u001b[1;32mreturn\u001b[0m \u001b[0mself\u001b[0m\u001b[1;33m.\u001b[0m\u001b[0mread\u001b[0m\u001b[1;33m(\u001b[0m\u001b[0mnbytes\u001b[0m\u001b[1;33m,\u001b[0m \u001b[0mbuffer\u001b[0m\u001b[1;33m)\u001b[0m\u001b[1;33m\u001b[0m\u001b[1;33m\u001b[0m\u001b[0m\n\u001b[0m\u001b[0;32m   1242\u001b[0m         \u001b[1;32melse\u001b[0m\u001b[1;33m:\u001b[0m\u001b[1;33m\u001b[0m\u001b[1;33m\u001b[0m\u001b[0m\n",
      "\u001b[1;32m~\\anaconda3\\lib\\ssl.py\u001b[0m in \u001b[0;36mread\u001b[1;34m(self, len, buffer)\u001b[0m\n\u001b[0;32m   1098\u001b[0m             \u001b[1;32mif\u001b[0m \u001b[0mbuffer\u001b[0m \u001b[1;32mis\u001b[0m \u001b[1;32mnot\u001b[0m \u001b[1;32mNone\u001b[0m\u001b[1;33m:\u001b[0m\u001b[1;33m\u001b[0m\u001b[1;33m\u001b[0m\u001b[0m\n\u001b[1;32m-> 1099\u001b[1;33m                 \u001b[1;32mreturn\u001b[0m \u001b[0mself\u001b[0m\u001b[1;33m.\u001b[0m\u001b[0m_sslobj\u001b[0m\u001b[1;33m.\u001b[0m\u001b[0mread\u001b[0m\u001b[1;33m(\u001b[0m\u001b[0mlen\u001b[0m\u001b[1;33m,\u001b[0m \u001b[0mbuffer\u001b[0m\u001b[1;33m)\u001b[0m\u001b[1;33m\u001b[0m\u001b[1;33m\u001b[0m\u001b[0m\n\u001b[0m\u001b[0;32m   1100\u001b[0m             \u001b[1;32melse\u001b[0m\u001b[1;33m:\u001b[0m\u001b[1;33m\u001b[0m\u001b[1;33m\u001b[0m\u001b[0m\n",
      "\u001b[1;31mtimeout\u001b[0m: The read operation timed out",
      "\nDuring handling of the above exception, another exception occurred:\n",
      "\u001b[1;31mReadTimeoutError\u001b[0m                          Traceback (most recent call last)",
      "\u001b[1;32m~\\anaconda3\\lib\\site-packages\\requests\\models.py\u001b[0m in \u001b[0;36mgenerate\u001b[1;34m()\u001b[0m\n\u001b[0;32m    752\u001b[0m                 \u001b[1;32mtry\u001b[0m\u001b[1;33m:\u001b[0m\u001b[1;33m\u001b[0m\u001b[1;33m\u001b[0m\u001b[0m\n\u001b[1;32m--> 753\u001b[1;33m                     \u001b[1;32mfor\u001b[0m \u001b[0mchunk\u001b[0m \u001b[1;32min\u001b[0m \u001b[0mself\u001b[0m\u001b[1;33m.\u001b[0m\u001b[0mraw\u001b[0m\u001b[1;33m.\u001b[0m\u001b[0mstream\u001b[0m\u001b[1;33m(\u001b[0m\u001b[0mchunk_size\u001b[0m\u001b[1;33m,\u001b[0m \u001b[0mdecode_content\u001b[0m\u001b[1;33m=\u001b[0m\u001b[1;32mTrue\u001b[0m\u001b[1;33m)\u001b[0m\u001b[1;33m:\u001b[0m\u001b[1;33m\u001b[0m\u001b[1;33m\u001b[0m\u001b[0m\n\u001b[0m\u001b[0;32m    754\u001b[0m                         \u001b[1;32myield\u001b[0m \u001b[0mchunk\u001b[0m\u001b[1;33m\u001b[0m\u001b[1;33m\u001b[0m\u001b[0m\n",
      "\u001b[1;32m~\\anaconda3\\lib\\site-packages\\urllib3\\response.py\u001b[0m in \u001b[0;36mstream\u001b[1;34m(self, amt, decode_content)\u001b[0m\n\u001b[0;32m    575\u001b[0m             \u001b[1;32mwhile\u001b[0m \u001b[1;32mnot\u001b[0m \u001b[0mis_fp_closed\u001b[0m\u001b[1;33m(\u001b[0m\u001b[0mself\u001b[0m\u001b[1;33m.\u001b[0m\u001b[0m_fp\u001b[0m\u001b[1;33m)\u001b[0m\u001b[1;33m:\u001b[0m\u001b[1;33m\u001b[0m\u001b[1;33m\u001b[0m\u001b[0m\n\u001b[1;32m--> 576\u001b[1;33m                 \u001b[0mdata\u001b[0m \u001b[1;33m=\u001b[0m \u001b[0mself\u001b[0m\u001b[1;33m.\u001b[0m\u001b[0mread\u001b[0m\u001b[1;33m(\u001b[0m\u001b[0mamt\u001b[0m\u001b[1;33m=\u001b[0m\u001b[0mamt\u001b[0m\u001b[1;33m,\u001b[0m \u001b[0mdecode_content\u001b[0m\u001b[1;33m=\u001b[0m\u001b[0mdecode_content\u001b[0m\u001b[1;33m)\u001b[0m\u001b[1;33m\u001b[0m\u001b[1;33m\u001b[0m\u001b[0m\n\u001b[0m\u001b[0;32m    577\u001b[0m \u001b[1;33m\u001b[0m\u001b[0m\n",
      "\u001b[1;32m~\\anaconda3\\lib\\site-packages\\urllib3\\response.py\u001b[0m in \u001b[0;36mread\u001b[1;34m(self, amt, decode_content, cache_content)\u001b[0m\n\u001b[0;32m    540\u001b[0m                         \u001b[1;31m# Content-Length are caught.\u001b[0m\u001b[1;33m\u001b[0m\u001b[1;33m\u001b[0m\u001b[1;33m\u001b[0m\u001b[0m\n\u001b[1;32m--> 541\u001b[1;33m                         \u001b[1;32mraise\u001b[0m \u001b[0mIncompleteRead\u001b[0m\u001b[1;33m(\u001b[0m\u001b[0mself\u001b[0m\u001b[1;33m.\u001b[0m\u001b[0m_fp_bytes_read\u001b[0m\u001b[1;33m,\u001b[0m \u001b[0mself\u001b[0m\u001b[1;33m.\u001b[0m\u001b[0mlength_remaining\u001b[0m\u001b[1;33m)\u001b[0m\u001b[1;33m\u001b[0m\u001b[1;33m\u001b[0m\u001b[0m\n\u001b[0m\u001b[0;32m    542\u001b[0m \u001b[1;33m\u001b[0m\u001b[0m\n",
      "\u001b[1;32m~\\anaconda3\\lib\\contextlib.py\u001b[0m in \u001b[0;36m__exit__\u001b[1;34m(self, type, value, traceback)\u001b[0m\n\u001b[0;32m    130\u001b[0m             \u001b[1;32mtry\u001b[0m\u001b[1;33m:\u001b[0m\u001b[1;33m\u001b[0m\u001b[1;33m\u001b[0m\u001b[0m\n\u001b[1;32m--> 131\u001b[1;33m                 \u001b[0mself\u001b[0m\u001b[1;33m.\u001b[0m\u001b[0mgen\u001b[0m\u001b[1;33m.\u001b[0m\u001b[0mthrow\u001b[0m\u001b[1;33m(\u001b[0m\u001b[0mtype\u001b[0m\u001b[1;33m,\u001b[0m \u001b[0mvalue\u001b[0m\u001b[1;33m,\u001b[0m \u001b[0mtraceback\u001b[0m\u001b[1;33m)\u001b[0m\u001b[1;33m\u001b[0m\u001b[1;33m\u001b[0m\u001b[0m\n\u001b[0m\u001b[0;32m    132\u001b[0m             \u001b[1;32mexcept\u001b[0m \u001b[0mStopIteration\u001b[0m \u001b[1;32mas\u001b[0m \u001b[0mexc\u001b[0m\u001b[1;33m:\u001b[0m\u001b[1;33m\u001b[0m\u001b[1;33m\u001b[0m\u001b[0m\n",
      "\u001b[1;32m~\\anaconda3\\lib\\site-packages\\urllib3\\response.py\u001b[0m in \u001b[0;36m_error_catcher\u001b[1;34m(self)\u001b[0m\n\u001b[0;32m    442\u001b[0m                 \u001b[1;31m# there is yet no clean way to get at it from this context.\u001b[0m\u001b[1;33m\u001b[0m\u001b[1;33m\u001b[0m\u001b[1;33m\u001b[0m\u001b[0m\n\u001b[1;32m--> 443\u001b[1;33m                 \u001b[1;32mraise\u001b[0m \u001b[0mReadTimeoutError\u001b[0m\u001b[1;33m(\u001b[0m\u001b[0mself\u001b[0m\u001b[1;33m.\u001b[0m\u001b[0m_pool\u001b[0m\u001b[1;33m,\u001b[0m \u001b[1;32mNone\u001b[0m\u001b[1;33m,\u001b[0m \u001b[1;34m\"Read timed out.\"\u001b[0m\u001b[1;33m)\u001b[0m\u001b[1;33m\u001b[0m\u001b[1;33m\u001b[0m\u001b[0m\n\u001b[0m\u001b[0;32m    444\u001b[0m \u001b[1;33m\u001b[0m\u001b[0m\n",
      "\u001b[1;31mReadTimeoutError\u001b[0m: HTTPSConnectionPool(host='api.twitter.com', port=443): Read timed out.",
      "\nDuring handling of the above exception, another exception occurred:\n",
      "\u001b[1;31mConnectionError\u001b[0m                           Traceback (most recent call last)",
      "\u001b[1;32m~\\anaconda3\\lib\\site-packages\\tweepy\\binder.py\u001b[0m in \u001b[0;36mexecute\u001b[1;34m(self)\u001b[0m\n\u001b[0;32m    183\u001b[0m                 \u001b[1;32mtry\u001b[0m\u001b[1;33m:\u001b[0m\u001b[1;33m\u001b[0m\u001b[1;33m\u001b[0m\u001b[0m\n\u001b[1;32m--> 184\u001b[1;33m                     resp = self.session.request(self.method,\n\u001b[0m\u001b[0;32m    185\u001b[0m                                                 \u001b[0mfull_url\u001b[0m\u001b[1;33m,\u001b[0m\u001b[1;33m\u001b[0m\u001b[1;33m\u001b[0m\u001b[0m\n",
      "\u001b[1;32m~\\anaconda3\\lib\\site-packages\\requests\\sessions.py\u001b[0m in \u001b[0;36mrequest\u001b[1;34m(self, method, url, params, data, headers, cookies, files, auth, timeout, allow_redirects, proxies, hooks, stream, verify, cert, json)\u001b[0m\n\u001b[0;32m    541\u001b[0m         \u001b[0msend_kwargs\u001b[0m\u001b[1;33m.\u001b[0m\u001b[0mupdate\u001b[0m\u001b[1;33m(\u001b[0m\u001b[0msettings\u001b[0m\u001b[1;33m)\u001b[0m\u001b[1;33m\u001b[0m\u001b[1;33m\u001b[0m\u001b[0m\n\u001b[1;32m--> 542\u001b[1;33m         \u001b[0mresp\u001b[0m \u001b[1;33m=\u001b[0m \u001b[0mself\u001b[0m\u001b[1;33m.\u001b[0m\u001b[0msend\u001b[0m\u001b[1;33m(\u001b[0m\u001b[0mprep\u001b[0m\u001b[1;33m,\u001b[0m \u001b[1;33m**\u001b[0m\u001b[0msend_kwargs\u001b[0m\u001b[1;33m)\u001b[0m\u001b[1;33m\u001b[0m\u001b[1;33m\u001b[0m\u001b[0m\n\u001b[0m\u001b[0;32m    543\u001b[0m \u001b[1;33m\u001b[0m\u001b[0m\n",
      "\u001b[1;32m~\\anaconda3\\lib\\site-packages\\requests\\sessions.py\u001b[0m in \u001b[0;36msend\u001b[1;34m(self, request, **kwargs)\u001b[0m\n\u001b[0;32m    696\u001b[0m         \u001b[1;32mif\u001b[0m \u001b[1;32mnot\u001b[0m \u001b[0mstream\u001b[0m\u001b[1;33m:\u001b[0m\u001b[1;33m\u001b[0m\u001b[1;33m\u001b[0m\u001b[0m\n\u001b[1;32m--> 697\u001b[1;33m             \u001b[0mr\u001b[0m\u001b[1;33m.\u001b[0m\u001b[0mcontent\u001b[0m\u001b[1;33m\u001b[0m\u001b[1;33m\u001b[0m\u001b[0m\n\u001b[0m\u001b[0;32m    698\u001b[0m \u001b[1;33m\u001b[0m\u001b[0m\n",
      "\u001b[1;32m~\\anaconda3\\lib\\site-packages\\requests\\models.py\u001b[0m in \u001b[0;36mcontent\u001b[1;34m(self)\u001b[0m\n\u001b[0;32m    830\u001b[0m             \u001b[1;32melse\u001b[0m\u001b[1;33m:\u001b[0m\u001b[1;33m\u001b[0m\u001b[1;33m\u001b[0m\u001b[0m\n\u001b[1;32m--> 831\u001b[1;33m                 \u001b[0mself\u001b[0m\u001b[1;33m.\u001b[0m\u001b[0m_content\u001b[0m \u001b[1;33m=\u001b[0m \u001b[1;34mb''\u001b[0m\u001b[1;33m.\u001b[0m\u001b[0mjoin\u001b[0m\u001b[1;33m(\u001b[0m\u001b[0mself\u001b[0m\u001b[1;33m.\u001b[0m\u001b[0miter_content\u001b[0m\u001b[1;33m(\u001b[0m\u001b[0mCONTENT_CHUNK_SIZE\u001b[0m\u001b[1;33m)\u001b[0m\u001b[1;33m)\u001b[0m \u001b[1;32mor\u001b[0m \u001b[1;34mb''\u001b[0m\u001b[1;33m\u001b[0m\u001b[1;33m\u001b[0m\u001b[0m\n\u001b[0m\u001b[0;32m    832\u001b[0m \u001b[1;33m\u001b[0m\u001b[0m\n",
      "\u001b[1;32m~\\anaconda3\\lib\\site-packages\\requests\\models.py\u001b[0m in \u001b[0;36mgenerate\u001b[1;34m()\u001b[0m\n\u001b[0;32m    759\u001b[0m                 \u001b[1;32mexcept\u001b[0m \u001b[0mReadTimeoutError\u001b[0m \u001b[1;32mas\u001b[0m \u001b[0me\u001b[0m\u001b[1;33m:\u001b[0m\u001b[1;33m\u001b[0m\u001b[1;33m\u001b[0m\u001b[0m\n\u001b[1;32m--> 760\u001b[1;33m                     \u001b[1;32mraise\u001b[0m \u001b[0mConnectionError\u001b[0m\u001b[1;33m(\u001b[0m\u001b[0me\u001b[0m\u001b[1;33m)\u001b[0m\u001b[1;33m\u001b[0m\u001b[1;33m\u001b[0m\u001b[0m\n\u001b[0m\u001b[0;32m    761\u001b[0m             \u001b[1;32melse\u001b[0m\u001b[1;33m:\u001b[0m\u001b[1;33m\u001b[0m\u001b[1;33m\u001b[0m\u001b[0m\n",
      "\u001b[1;31mConnectionError\u001b[0m: HTTPSConnectionPool(host='api.twitter.com', port=443): Read timed out.",
      "\nDuring handling of the above exception, another exception occurred:\n",
      "\u001b[1;31mTweepError\u001b[0m                                Traceback (most recent call last)",
      "\u001b[1;32m<ipython-input-3-1d01e5883ac8>\u001b[0m in \u001b[0;36m<module>\u001b[1;34m\u001b[0m\n\u001b[0;32m      7\u001b[0m \u001b[1;32mwhile\u001b[0m \u001b[1;32mTrue\u001b[0m\u001b[1;33m:\u001b[0m\u001b[1;33m\u001b[0m\u001b[1;33m\u001b[0m\u001b[0m\n\u001b[0;32m      8\u001b[0m     \u001b[0mSearchStore\u001b[0m\u001b[1;33m(\u001b[0m\u001b[1;34m\"Apple\"\u001b[0m\u001b[1;33m,\u001b[0m\u001b[1;34m\"AAPL\"\u001b[0m\u001b[1;33m,\u001b[0m\u001b[0mcount\u001b[0m\u001b[1;33m=\u001b[0m\u001b[0mtwt\u001b[0m\u001b[1;33m)\u001b[0m\u001b[1;33m\u001b[0m\u001b[1;33m\u001b[0m\u001b[0m\n\u001b[1;32m----> 9\u001b[1;33m     \u001b[0mSearchStore\u001b[0m\u001b[1;33m(\u001b[0m\u001b[1;34m\"Tesla\"\u001b[0m\u001b[1;33m,\u001b[0m\u001b[1;34m\"TSLA\"\u001b[0m\u001b[1;33m,\u001b[0m\u001b[0mcount\u001b[0m\u001b[1;33m=\u001b[0m\u001b[0mtwt\u001b[0m\u001b[1;33m)\u001b[0m\u001b[1;33m\u001b[0m\u001b[1;33m\u001b[0m\u001b[0m\n\u001b[0m\u001b[0;32m     10\u001b[0m     \u001b[0mSearchStore\u001b[0m\u001b[1;33m(\u001b[0m\u001b[1;34m\"Microsoft\"\u001b[0m\u001b[1;33m,\u001b[0m\u001b[1;34m\"MSFT\"\u001b[0m\u001b[1;33m,\u001b[0m\u001b[0mcount\u001b[0m\u001b[1;33m=\u001b[0m\u001b[0mtwt\u001b[0m\u001b[1;33m)\u001b[0m\u001b[1;33m\u001b[0m\u001b[1;33m\u001b[0m\u001b[0m\n\u001b[0;32m     11\u001b[0m     \u001b[0mSearchStore\u001b[0m\u001b[1;33m(\u001b[0m\u001b[1;34m\"AMD\"\u001b[0m\u001b[1;33m,\u001b[0m\u001b[1;34m\"AMD\"\u001b[0m\u001b[1;33m,\u001b[0m\u001b[0mcount\u001b[0m\u001b[1;33m=\u001b[0m\u001b[0mtwt\u001b[0m\u001b[1;33m)\u001b[0m\u001b[1;33m\u001b[0m\u001b[1;33m\u001b[0m\u001b[0m\n",
      "\u001b[1;32m<ipython-input-1-3d4a9c6c9b21>\u001b[0m in \u001b[0;36mSearchStore\u001b[1;34m(query, stockinfo, sinceDate, untilDate, sID, rtmin, count)\u001b[0m\n\u001b[0;32m      1\u001b[0m \u001b[1;32mdef\u001b[0m \u001b[0mSearchStore\u001b[0m\u001b[1;33m(\u001b[0m\u001b[0mquery\u001b[0m\u001b[1;33m,\u001b[0m\u001b[0mstockinfo\u001b[0m \u001b[1;33m,\u001b[0m\u001b[0msinceDate\u001b[0m\u001b[1;33m=\u001b[0m\u001b[0mstr\u001b[0m\u001b[1;33m(\u001b[0m\u001b[0mdatetime\u001b[0m\u001b[1;33m.\u001b[0m\u001b[0mutcnow\u001b[0m\u001b[1;33m(\u001b[0m\u001b[1;33m)\u001b[0m \u001b[1;33m-\u001b[0m \u001b[0mtimedelta\u001b[0m\u001b[1;33m(\u001b[0m\u001b[0mdays\u001b[0m\u001b[1;33m=\u001b[0m\u001b[1;36m30\u001b[0m\u001b[1;33m)\u001b[0m\u001b[1;33m)\u001b[0m\u001b[1;33m[\u001b[0m\u001b[1;33m:\u001b[0m\u001b[1;36m10\u001b[0m\u001b[1;33m]\u001b[0m\u001b[1;33m,\u001b[0m\u001b[0muntilDate\u001b[0m\u001b[1;33m=\u001b[0m\u001b[0mstr\u001b[0m\u001b[1;33m(\u001b[0m\u001b[0mdatetime\u001b[0m\u001b[1;33m.\u001b[0m\u001b[0mutcnow\u001b[0m\u001b[1;33m(\u001b[0m\u001b[1;33m)\u001b[0m\u001b[1;33m)\u001b[0m\u001b[1;33m[\u001b[0m\u001b[1;33m:\u001b[0m\u001b[1;36m10\u001b[0m\u001b[1;33m]\u001b[0m\u001b[1;33m,\u001b[0m\u001b[0msID\u001b[0m\u001b[1;33m=\u001b[0m\u001b[1;32mNone\u001b[0m\u001b[1;33m,\u001b[0m \u001b[0mrtmin\u001b[0m\u001b[1;33m=\u001b[0m\u001b[1;36m2\u001b[0m\u001b[1;33m,\u001b[0m\u001b[0mcount\u001b[0m\u001b[1;33m=\u001b[0m\u001b[1;36m10000\u001b[0m\u001b[1;33m)\u001b[0m\u001b[1;33m:\u001b[0m\u001b[1;33m\u001b[0m\u001b[1;33m\u001b[0m\u001b[0m\n\u001b[0;32m      2\u001b[0m     \u001b[0mcounter\u001b[0m\u001b[1;33m,\u001b[0m\u001b[0mupdateC\u001b[0m\u001b[1;33m,\u001b[0m\u001b[0mnewEntries\u001b[0m\u001b[1;33m=\u001b[0m\u001b[1;36m0\u001b[0m\u001b[1;33m,\u001b[0m\u001b[1;36m0\u001b[0m\u001b[1;33m,\u001b[0m\u001b[1;36m0\u001b[0m\u001b[1;33m\u001b[0m\u001b[1;33m\u001b[0m\u001b[0m\n\u001b[1;32m----> 3\u001b[1;33m     for status in tweepy.Cursor(api.search, include_rts =False, include_replies=False, \n\u001b[0m\u001b[0;32m      4\u001b[0m                                 \u001b[0msince\u001b[0m\u001b[1;33m=\u001b[0m\u001b[0msinceDate\u001b[0m\u001b[1;33m,\u001b[0m \u001b[0muntil\u001b[0m\u001b[1;33m=\u001b[0m\u001b[0muntilDate\u001b[0m\u001b[1;33m,\u001b[0m\u001b[0mtweet_mode\u001b[0m\u001b[1;33m=\u001b[0m\u001b[1;34m\"extended\"\u001b[0m\u001b[1;33m\u001b[0m\u001b[1;33m\u001b[0m\u001b[0m\n\u001b[0;32m      5\u001b[0m                                 ,q=query+\" exclude:retweets AND exclude:replies AND min_retweets:\"+str(rtmin), lang=\"en\").items():\n",
      "\u001b[1;32m~\\anaconda3\\lib\\site-packages\\tweepy\\cursor.py\u001b[0m in \u001b[0;36m__next__\u001b[1;34m(self)\u001b[0m\n\u001b[0;32m     49\u001b[0m \u001b[1;33m\u001b[0m\u001b[0m\n\u001b[0;32m     50\u001b[0m     \u001b[1;32mdef\u001b[0m \u001b[0m__next__\u001b[0m\u001b[1;33m(\u001b[0m\u001b[0mself\u001b[0m\u001b[1;33m)\u001b[0m\u001b[1;33m:\u001b[0m\u001b[1;33m\u001b[0m\u001b[1;33m\u001b[0m\u001b[0m\n\u001b[1;32m---> 51\u001b[1;33m         \u001b[1;32mreturn\u001b[0m \u001b[0mself\u001b[0m\u001b[1;33m.\u001b[0m\u001b[0mnext\u001b[0m\u001b[1;33m(\u001b[0m\u001b[1;33m)\u001b[0m\u001b[1;33m\u001b[0m\u001b[1;33m\u001b[0m\u001b[0m\n\u001b[0m\u001b[0;32m     52\u001b[0m \u001b[1;33m\u001b[0m\u001b[0m\n\u001b[0;32m     53\u001b[0m     \u001b[1;32mdef\u001b[0m \u001b[0mnext\u001b[0m\u001b[1;33m(\u001b[0m\u001b[0mself\u001b[0m\u001b[1;33m)\u001b[0m\u001b[1;33m:\u001b[0m\u001b[1;33m\u001b[0m\u001b[1;33m\u001b[0m\u001b[0m\n",
      "\u001b[1;32m~\\anaconda3\\lib\\site-packages\\tweepy\\cursor.py\u001b[0m in \u001b[0;36mnext\u001b[1;34m(self)\u001b[0m\n\u001b[0;32m    241\u001b[0m         \u001b[1;32mif\u001b[0m \u001b[0mself\u001b[0m\u001b[1;33m.\u001b[0m\u001b[0mcurrent_page\u001b[0m \u001b[1;32mis\u001b[0m \u001b[1;32mNone\u001b[0m \u001b[1;32mor\u001b[0m \u001b[0mself\u001b[0m\u001b[1;33m.\u001b[0m\u001b[0mpage_index\u001b[0m \u001b[1;33m==\u001b[0m \u001b[0mlen\u001b[0m\u001b[1;33m(\u001b[0m\u001b[0mself\u001b[0m\u001b[1;33m.\u001b[0m\u001b[0mcurrent_page\u001b[0m\u001b[1;33m)\u001b[0m \u001b[1;33m-\u001b[0m \u001b[1;36m1\u001b[0m\u001b[1;33m:\u001b[0m\u001b[1;33m\u001b[0m\u001b[1;33m\u001b[0m\u001b[0m\n\u001b[0;32m    242\u001b[0m             \u001b[1;31m# Reached end of current page, get the next page...\u001b[0m\u001b[1;33m\u001b[0m\u001b[1;33m\u001b[0m\u001b[1;33m\u001b[0m\u001b[0m\n\u001b[1;32m--> 243\u001b[1;33m             \u001b[0mself\u001b[0m\u001b[1;33m.\u001b[0m\u001b[0mcurrent_page\u001b[0m \u001b[1;33m=\u001b[0m \u001b[0mself\u001b[0m\u001b[1;33m.\u001b[0m\u001b[0mpage_iterator\u001b[0m\u001b[1;33m.\u001b[0m\u001b[0mnext\u001b[0m\u001b[1;33m(\u001b[0m\u001b[1;33m)\u001b[0m\u001b[1;33m\u001b[0m\u001b[1;33m\u001b[0m\u001b[0m\n\u001b[0m\u001b[0;32m    244\u001b[0m             \u001b[1;32mwhile\u001b[0m \u001b[0mlen\u001b[0m\u001b[1;33m(\u001b[0m\u001b[0mself\u001b[0m\u001b[1;33m.\u001b[0m\u001b[0mcurrent_page\u001b[0m\u001b[1;33m)\u001b[0m \u001b[1;33m==\u001b[0m \u001b[1;36m0\u001b[0m\u001b[1;33m:\u001b[0m\u001b[1;33m\u001b[0m\u001b[1;33m\u001b[0m\u001b[0m\n\u001b[0;32m    245\u001b[0m                 \u001b[0mself\u001b[0m\u001b[1;33m.\u001b[0m\u001b[0mcurrent_page\u001b[0m \u001b[1;33m=\u001b[0m \u001b[0mself\u001b[0m\u001b[1;33m.\u001b[0m\u001b[0mpage_iterator\u001b[0m\u001b[1;33m.\u001b[0m\u001b[0mnext\u001b[0m\u001b[1;33m(\u001b[0m\u001b[1;33m)\u001b[0m\u001b[1;33m\u001b[0m\u001b[1;33m\u001b[0m\u001b[0m\n",
      "\u001b[1;32m~\\anaconda3\\lib\\site-packages\\tweepy\\cursor.py\u001b[0m in \u001b[0;36mnext\u001b[1;34m(self)\u001b[0m\n\u001b[0;32m    130\u001b[0m \u001b[1;33m\u001b[0m\u001b[0m\n\u001b[0;32m    131\u001b[0m         \u001b[1;32mif\u001b[0m \u001b[0mself\u001b[0m\u001b[1;33m.\u001b[0m\u001b[0mindex\u001b[0m \u001b[1;33m>=\u001b[0m \u001b[0mlen\u001b[0m\u001b[1;33m(\u001b[0m\u001b[0mself\u001b[0m\u001b[1;33m.\u001b[0m\u001b[0mresults\u001b[0m\u001b[1;33m)\u001b[0m \u001b[1;33m-\u001b[0m \u001b[1;36m1\u001b[0m\u001b[1;33m:\u001b[0m\u001b[1;33m\u001b[0m\u001b[1;33m\u001b[0m\u001b[0m\n\u001b[1;32m--> 132\u001b[1;33m             \u001b[0mdata\u001b[0m \u001b[1;33m=\u001b[0m \u001b[0mself\u001b[0m\u001b[1;33m.\u001b[0m\u001b[0mmethod\u001b[0m\u001b[1;33m(\u001b[0m\u001b[0mmax_id\u001b[0m\u001b[1;33m=\u001b[0m\u001b[0mself\u001b[0m\u001b[1;33m.\u001b[0m\u001b[0mmax_id\u001b[0m\u001b[1;33m,\u001b[0m \u001b[0mparser\u001b[0m\u001b[1;33m=\u001b[0m\u001b[0mRawParser\u001b[0m\u001b[1;33m(\u001b[0m\u001b[1;33m)\u001b[0m\u001b[1;33m,\u001b[0m \u001b[1;33m*\u001b[0m\u001b[0mself\u001b[0m\u001b[1;33m.\u001b[0m\u001b[0margs\u001b[0m\u001b[1;33m,\u001b[0m \u001b[1;33m**\u001b[0m\u001b[0mself\u001b[0m\u001b[1;33m.\u001b[0m\u001b[0mkwargs\u001b[0m\u001b[1;33m)\u001b[0m\u001b[1;33m\u001b[0m\u001b[1;33m\u001b[0m\u001b[0m\n\u001b[0m\u001b[0;32m    133\u001b[0m \u001b[1;33m\u001b[0m\u001b[0m\n\u001b[0;32m    134\u001b[0m             \u001b[1;32mif\u001b[0m \u001b[0mhasattr\u001b[0m\u001b[1;33m(\u001b[0m\u001b[0mself\u001b[0m\u001b[1;33m.\u001b[0m\u001b[0mmethod\u001b[0m\u001b[1;33m,\u001b[0m \u001b[1;34m'__self__'\u001b[0m\u001b[1;33m)\u001b[0m\u001b[1;33m:\u001b[0m\u001b[1;33m\u001b[0m\u001b[1;33m\u001b[0m\u001b[0m\n",
      "\u001b[1;32m~\\anaconda3\\lib\\site-packages\\tweepy\\binder.py\u001b[0m in \u001b[0;36m_call\u001b[1;34m(*args, **kwargs)\u001b[0m\n\u001b[0;32m    251\u001b[0m                 \u001b[1;32mreturn\u001b[0m \u001b[0mmethod\u001b[0m\u001b[1;33m\u001b[0m\u001b[1;33m\u001b[0m\u001b[0m\n\u001b[0;32m    252\u001b[0m             \u001b[1;32melse\u001b[0m\u001b[1;33m:\u001b[0m\u001b[1;33m\u001b[0m\u001b[1;33m\u001b[0m\u001b[0m\n\u001b[1;32m--> 253\u001b[1;33m                 \u001b[1;32mreturn\u001b[0m \u001b[0mmethod\u001b[0m\u001b[1;33m.\u001b[0m\u001b[0mexecute\u001b[0m\u001b[1;33m(\u001b[0m\u001b[1;33m)\u001b[0m\u001b[1;33m\u001b[0m\u001b[1;33m\u001b[0m\u001b[0m\n\u001b[0m\u001b[0;32m    254\u001b[0m         \u001b[1;32mfinally\u001b[0m\u001b[1;33m:\u001b[0m\u001b[1;33m\u001b[0m\u001b[1;33m\u001b[0m\u001b[0m\n\u001b[0;32m    255\u001b[0m             \u001b[0mmethod\u001b[0m\u001b[1;33m.\u001b[0m\u001b[0msession\u001b[0m\u001b[1;33m.\u001b[0m\u001b[0mclose\u001b[0m\u001b[1;33m(\u001b[0m\u001b[1;33m)\u001b[0m\u001b[1;33m\u001b[0m\u001b[1;33m\u001b[0m\u001b[0m\n",
      "\u001b[1;32m~\\anaconda3\\lib\\site-packages\\tweepy\\binder.py\u001b[0m in \u001b[0;36mexecute\u001b[1;34m(self)\u001b[0m\n\u001b[0;32m    190\u001b[0m                                                 proxies=self.api.proxy)\n\u001b[0;32m    191\u001b[0m                 \u001b[1;32mexcept\u001b[0m \u001b[0mException\u001b[0m \u001b[1;32mas\u001b[0m \u001b[0me\u001b[0m\u001b[1;33m:\u001b[0m\u001b[1;33m\u001b[0m\u001b[1;33m\u001b[0m\u001b[0m\n\u001b[1;32m--> 192\u001b[1;33m                     \u001b[0msix\u001b[0m\u001b[1;33m.\u001b[0m\u001b[0mreraise\u001b[0m\u001b[1;33m(\u001b[0m\u001b[0mTweepError\u001b[0m\u001b[1;33m,\u001b[0m \u001b[0mTweepError\u001b[0m\u001b[1;33m(\u001b[0m\u001b[1;34m'Failed to send request: %s'\u001b[0m \u001b[1;33m%\u001b[0m \u001b[0me\u001b[0m\u001b[1;33m)\u001b[0m\u001b[1;33m,\u001b[0m \u001b[0msys\u001b[0m\u001b[1;33m.\u001b[0m\u001b[0mexc_info\u001b[0m\u001b[1;33m(\u001b[0m\u001b[1;33m)\u001b[0m\u001b[1;33m[\u001b[0m\u001b[1;36m2\u001b[0m\u001b[1;33m]\u001b[0m\u001b[1;33m)\u001b[0m\u001b[1;33m\u001b[0m\u001b[1;33m\u001b[0m\u001b[0m\n\u001b[0m\u001b[0;32m    193\u001b[0m \u001b[1;33m\u001b[0m\u001b[0m\n\u001b[0;32m    194\u001b[0m                 \u001b[0mrem_calls\u001b[0m \u001b[1;33m=\u001b[0m \u001b[0mresp\u001b[0m\u001b[1;33m.\u001b[0m\u001b[0mheaders\u001b[0m\u001b[1;33m.\u001b[0m\u001b[0mget\u001b[0m\u001b[1;33m(\u001b[0m\u001b[1;34m'x-rate-limit-remaining'\u001b[0m\u001b[1;33m)\u001b[0m\u001b[1;33m\u001b[0m\u001b[1;33m\u001b[0m\u001b[0m\n",
      "\u001b[1;32m~\\anaconda3\\lib\\site-packages\\six.py\u001b[0m in \u001b[0;36mreraise\u001b[1;34m(tp, value, tb)\u001b[0m\n\u001b[0;32m    700\u001b[0m                 \u001b[0mvalue\u001b[0m \u001b[1;33m=\u001b[0m \u001b[0mtp\u001b[0m\u001b[1;33m(\u001b[0m\u001b[1;33m)\u001b[0m\u001b[1;33m\u001b[0m\u001b[1;33m\u001b[0m\u001b[0m\n\u001b[0;32m    701\u001b[0m             \u001b[1;32mif\u001b[0m \u001b[0mvalue\u001b[0m\u001b[1;33m.\u001b[0m\u001b[0m__traceback__\u001b[0m \u001b[1;32mis\u001b[0m \u001b[1;32mnot\u001b[0m \u001b[0mtb\u001b[0m\u001b[1;33m:\u001b[0m\u001b[1;33m\u001b[0m\u001b[1;33m\u001b[0m\u001b[0m\n\u001b[1;32m--> 702\u001b[1;33m                 \u001b[1;32mraise\u001b[0m \u001b[0mvalue\u001b[0m\u001b[1;33m.\u001b[0m\u001b[0mwith_traceback\u001b[0m\u001b[1;33m(\u001b[0m\u001b[0mtb\u001b[0m\u001b[1;33m)\u001b[0m\u001b[1;33m\u001b[0m\u001b[1;33m\u001b[0m\u001b[0m\n\u001b[0m\u001b[0;32m    703\u001b[0m             \u001b[1;32mraise\u001b[0m \u001b[0mvalue\u001b[0m\u001b[1;33m\u001b[0m\u001b[1;33m\u001b[0m\u001b[0m\n\u001b[0;32m    704\u001b[0m         \u001b[1;32mfinally\u001b[0m\u001b[1;33m:\u001b[0m\u001b[1;33m\u001b[0m\u001b[1;33m\u001b[0m\u001b[0m\n",
      "\u001b[1;32m~\\anaconda3\\lib\\site-packages\\tweepy\\binder.py\u001b[0m in \u001b[0;36mexecute\u001b[1;34m(self)\u001b[0m\n\u001b[0;32m    182\u001b[0m                 \u001b[1;31m# Execute request\u001b[0m\u001b[1;33m\u001b[0m\u001b[1;33m\u001b[0m\u001b[1;33m\u001b[0m\u001b[0m\n\u001b[0;32m    183\u001b[0m                 \u001b[1;32mtry\u001b[0m\u001b[1;33m:\u001b[0m\u001b[1;33m\u001b[0m\u001b[1;33m\u001b[0m\u001b[0m\n\u001b[1;32m--> 184\u001b[1;33m                     resp = self.session.request(self.method,\n\u001b[0m\u001b[0;32m    185\u001b[0m                                                 \u001b[0mfull_url\u001b[0m\u001b[1;33m,\u001b[0m\u001b[1;33m\u001b[0m\u001b[1;33m\u001b[0m\u001b[0m\n\u001b[0;32m    186\u001b[0m                                                 \u001b[0mdata\u001b[0m\u001b[1;33m=\u001b[0m\u001b[0mself\u001b[0m\u001b[1;33m.\u001b[0m\u001b[0mpost_data\u001b[0m\u001b[1;33m,\u001b[0m\u001b[1;33m\u001b[0m\u001b[1;33m\u001b[0m\u001b[0m\n",
      "\u001b[1;32m~\\anaconda3\\lib\\site-packages\\requests\\sessions.py\u001b[0m in \u001b[0;36mrequest\u001b[1;34m(self, method, url, params, data, headers, cookies, files, auth, timeout, allow_redirects, proxies, hooks, stream, verify, cert, json)\u001b[0m\n\u001b[0;32m    540\u001b[0m         }\n\u001b[0;32m    541\u001b[0m         \u001b[0msend_kwargs\u001b[0m\u001b[1;33m.\u001b[0m\u001b[0mupdate\u001b[0m\u001b[1;33m(\u001b[0m\u001b[0msettings\u001b[0m\u001b[1;33m)\u001b[0m\u001b[1;33m\u001b[0m\u001b[1;33m\u001b[0m\u001b[0m\n\u001b[1;32m--> 542\u001b[1;33m         \u001b[0mresp\u001b[0m \u001b[1;33m=\u001b[0m \u001b[0mself\u001b[0m\u001b[1;33m.\u001b[0m\u001b[0msend\u001b[0m\u001b[1;33m(\u001b[0m\u001b[0mprep\u001b[0m\u001b[1;33m,\u001b[0m \u001b[1;33m**\u001b[0m\u001b[0msend_kwargs\u001b[0m\u001b[1;33m)\u001b[0m\u001b[1;33m\u001b[0m\u001b[1;33m\u001b[0m\u001b[0m\n\u001b[0m\u001b[0;32m    543\u001b[0m \u001b[1;33m\u001b[0m\u001b[0m\n\u001b[0;32m    544\u001b[0m         \u001b[1;32mreturn\u001b[0m \u001b[0mresp\u001b[0m\u001b[1;33m\u001b[0m\u001b[1;33m\u001b[0m\u001b[0m\n",
      "\u001b[1;32m~\\anaconda3\\lib\\site-packages\\requests\\sessions.py\u001b[0m in \u001b[0;36msend\u001b[1;34m(self, request, **kwargs)\u001b[0m\n\u001b[0;32m    695\u001b[0m \u001b[1;33m\u001b[0m\u001b[0m\n\u001b[0;32m    696\u001b[0m         \u001b[1;32mif\u001b[0m \u001b[1;32mnot\u001b[0m \u001b[0mstream\u001b[0m\u001b[1;33m:\u001b[0m\u001b[1;33m\u001b[0m\u001b[1;33m\u001b[0m\u001b[0m\n\u001b[1;32m--> 697\u001b[1;33m             \u001b[0mr\u001b[0m\u001b[1;33m.\u001b[0m\u001b[0mcontent\u001b[0m\u001b[1;33m\u001b[0m\u001b[1;33m\u001b[0m\u001b[0m\n\u001b[0m\u001b[0;32m    698\u001b[0m \u001b[1;33m\u001b[0m\u001b[0m\n\u001b[0;32m    699\u001b[0m         \u001b[1;32mreturn\u001b[0m \u001b[0mr\u001b[0m\u001b[1;33m\u001b[0m\u001b[1;33m\u001b[0m\u001b[0m\n",
      "\u001b[1;32m~\\anaconda3\\lib\\site-packages\\requests\\models.py\u001b[0m in \u001b[0;36mcontent\u001b[1;34m(self)\u001b[0m\n\u001b[0;32m    829\u001b[0m                 \u001b[0mself\u001b[0m\u001b[1;33m.\u001b[0m\u001b[0m_content\u001b[0m \u001b[1;33m=\u001b[0m \u001b[1;32mNone\u001b[0m\u001b[1;33m\u001b[0m\u001b[1;33m\u001b[0m\u001b[0m\n\u001b[0;32m    830\u001b[0m             \u001b[1;32melse\u001b[0m\u001b[1;33m:\u001b[0m\u001b[1;33m\u001b[0m\u001b[1;33m\u001b[0m\u001b[0m\n\u001b[1;32m--> 831\u001b[1;33m                 \u001b[0mself\u001b[0m\u001b[1;33m.\u001b[0m\u001b[0m_content\u001b[0m \u001b[1;33m=\u001b[0m \u001b[1;34mb''\u001b[0m\u001b[1;33m.\u001b[0m\u001b[0mjoin\u001b[0m\u001b[1;33m(\u001b[0m\u001b[0mself\u001b[0m\u001b[1;33m.\u001b[0m\u001b[0miter_content\u001b[0m\u001b[1;33m(\u001b[0m\u001b[0mCONTENT_CHUNK_SIZE\u001b[0m\u001b[1;33m)\u001b[0m\u001b[1;33m)\u001b[0m \u001b[1;32mor\u001b[0m \u001b[1;34mb''\u001b[0m\u001b[1;33m\u001b[0m\u001b[1;33m\u001b[0m\u001b[0m\n\u001b[0m\u001b[0;32m    832\u001b[0m \u001b[1;33m\u001b[0m\u001b[0m\n\u001b[0;32m    833\u001b[0m         \u001b[0mself\u001b[0m\u001b[1;33m.\u001b[0m\u001b[0m_content_consumed\u001b[0m \u001b[1;33m=\u001b[0m \u001b[1;32mTrue\u001b[0m\u001b[1;33m\u001b[0m\u001b[1;33m\u001b[0m\u001b[0m\n",
      "\u001b[1;32m~\\anaconda3\\lib\\site-packages\\requests\\models.py\u001b[0m in \u001b[0;36mgenerate\u001b[1;34m()\u001b[0m\n\u001b[0;32m    758\u001b[0m                     \u001b[1;32mraise\u001b[0m \u001b[0mContentDecodingError\u001b[0m\u001b[1;33m(\u001b[0m\u001b[0me\u001b[0m\u001b[1;33m)\u001b[0m\u001b[1;33m\u001b[0m\u001b[1;33m\u001b[0m\u001b[0m\n\u001b[0;32m    759\u001b[0m                 \u001b[1;32mexcept\u001b[0m \u001b[0mReadTimeoutError\u001b[0m \u001b[1;32mas\u001b[0m \u001b[0me\u001b[0m\u001b[1;33m:\u001b[0m\u001b[1;33m\u001b[0m\u001b[1;33m\u001b[0m\u001b[0m\n\u001b[1;32m--> 760\u001b[1;33m                     \u001b[1;32mraise\u001b[0m \u001b[0mConnectionError\u001b[0m\u001b[1;33m(\u001b[0m\u001b[0me\u001b[0m\u001b[1;33m)\u001b[0m\u001b[1;33m\u001b[0m\u001b[1;33m\u001b[0m\u001b[0m\n\u001b[0m\u001b[0;32m    761\u001b[0m             \u001b[1;32melse\u001b[0m\u001b[1;33m:\u001b[0m\u001b[1;33m\u001b[0m\u001b[1;33m\u001b[0m\u001b[0m\n\u001b[0;32m    762\u001b[0m                 \u001b[1;31m# Standard file-like object.\u001b[0m\u001b[1;33m\u001b[0m\u001b[1;33m\u001b[0m\u001b[1;33m\u001b[0m\u001b[0m\n",
      "\u001b[1;31mTweepError\u001b[0m: Failed to send request: HTTPSConnectionPool(host='api.twitter.com', port=443): Read timed out."
     ]
    }
   ],
   "source": [
    "SweepStore(\"Apple\",\"AAPL\",count=twt)\n",
    "SweepStore(\"Tesla\",\"TSLA\",count=twt)\n",
    "SweepStore(\"Microsoft\",\"MSFT\",count=twt)\n",
    "SweepStore(\"AMD\",\"AMD\",count=twt)\n",
    "SweepStore(\"Bed Bath and Beyond\",\"BBBY\",count=twt)\n",
    "twt+=twt\n",
    "while True:\n",
    "    SearchStore(\"Apple\",\"AAPL\",count=twt)\n",
    "    SearchStore(\"Tesla\",\"TSLA\",count=twt)\n",
    "    SearchStore(\"Microsoft\",\"MSFT\",count=twt)\n",
    "    SearchStore(\"AMD\",\"AMD\",count=twt)\n",
    "    SearchStore(\"Bed Bath and Beyond\",\"BBBY\",count=twt)\n",
    "    twt+=twt"
   ]
  }
 ],
 "metadata": {
  "kernelspec": {
   "display_name": "Python 3",
   "language": "python",
   "name": "python3"
  },
  "language_info": {
   "codemirror_mode": {
    "name": "ipython",
    "version": 3
   },
   "file_extension": ".py",
   "mimetype": "text/x-python",
   "name": "python",
   "nbconvert_exporter": "python",
   "pygments_lexer": "ipython3",
   "version": "3.8.8"
  },
  "toc": {
   "base_numbering": 1,
   "nav_menu": {},
   "number_sections": true,
   "sideBar": true,
   "skip_h1_title": false,
   "title_cell": "Table of Contents",
   "title_sidebar": "Contents",
   "toc_cell": false,
   "toc_position": {},
   "toc_section_display": true,
   "toc_window_display": false
  },
  "varInspector": {
   "cols": {
    "lenName": 16,
    "lenType": 16,
    "lenVar": 40
   },
   "kernels_config": {
    "python": {
     "delete_cmd_postfix": "",
     "delete_cmd_prefix": "del ",
     "library": "var_list.py",
     "varRefreshCmd": "print(var_dic_list())"
    },
    "r": {
     "delete_cmd_postfix": ") ",
     "delete_cmd_prefix": "rm(",
     "library": "var_list.r",
     "varRefreshCmd": "cat(var_dic_list()) "
    }
   },
   "types_to_exclude": [
    "module",
    "function",
    "builtin_function_or_method",
    "instance",
    "_Feature"
   ],
   "window_display": false
  }
 },
 "nbformat": 4,
 "nbformat_minor": 4
}
