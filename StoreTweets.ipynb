{
 "cells": [
  {
   "cell_type": "code",
   "execution_count": 2,
   "metadata": {
    "scrolled": false
   },
   "outputs": [
    {
     "name": "stdout",
     "output_type": "stream",
     "text": [
      "Growth SET\n",
      "GPU ACTIVE\n",
      "{'limit': 15, 'remaining': 15, 'reset': 1616026970}\n",
      "{'limit': 900, 'remaining': 900, 'reset': 1616026970}\n",
      "sentimentDB exists.\n",
      "Database(MongoClient(host=['localhost:27017'], document_class=dict, tz_aware=False, connect=True), 'sentimentDB')\n"
     ]
    }
   ],
   "source": [
    "%run StoreTweetsBackend.ipynb"
   ]
  },
  {
   "cell_type": "code",
   "execution_count": null,
   "metadata": {
    "scrolled": true
   },
   "outputs": [
    {
     "name": "stderr",
     "output_type": "stream",
     "text": [
      "Rate limit reached. Sleeping for: 506\n"
     ]
    },
    {
     "name": "stdout",
     "output_type": "stream",
     "text": [
      "AAPL\tEntries: 10000\tUpdated: 4864\tNew: 5136\n"
     ]
    },
    {
     "name": "stderr",
     "output_type": "stream",
     "text": [
      "Rate limit reached. Sleeping for: 507\n"
     ]
    },
    {
     "name": "stdout",
     "output_type": "stream",
     "text": [
      "End Reached\n",
      "TSLA\tEntries: 5523\tUpdated: 4927\tNew: 596\n"
     ]
    },
    {
     "name": "stderr",
     "output_type": "stream",
     "text": [
      "Rate limit reached. Sleeping for: 509\n",
      "Rate limit reached. Sleeping for: 461\n"
     ]
    },
    {
     "name": "stdout",
     "output_type": "stream",
     "text": [
      "End Reached\n",
      "MSFT\tEntries: 7079\tUpdated: 6307\tNew: 772\n",
      "End Reached\n",
      "AMD\tEntries: 1485\tUpdated: 1281\tNew: 204\n",
      "End Reached\n",
      "BBBY\tEntries: 131\tUpdated: 125\tNew: 6\n"
     ]
    },
    {
     "name": "stderr",
     "output_type": "stream",
     "text": [
      "Rate limit reached. Sleeping for: 451\n",
      "Rate limit reached. Sleeping for: 456\n",
      "Rate limit reached. Sleeping for: 449\n",
      "Rate limit reached. Sleeping for: 444\n"
     ]
    },
    {
     "name": "stdout",
     "output_type": "stream",
     "text": [
      "AAPL\tEntries: 20000\tUpdated: 19897\tNew: 103\n"
     ]
    },
    {
     "name": "stderr",
     "output_type": "stream",
     "text": [
      "Rate limit reached. Sleeping for: 438\n"
     ]
    },
    {
     "name": "stdout",
     "output_type": "stream",
     "text": [
      "End Reached\n",
      "TSLA\tEntries: 5584\tUpdated: 5563\tNew: 21\n"
     ]
    },
    {
     "name": "stderr",
     "output_type": "stream",
     "text": [
      "Rate limit reached. Sleeping for: 415\n"
     ]
    },
    {
     "name": "stdout",
     "output_type": "stream",
     "text": [
      "End Reached\n",
      "MSFT\tEntries: 7155\tUpdated: 7137\tNew: 18\n"
     ]
    },
    {
     "name": "stderr",
     "output_type": "stream",
     "text": [
      "Rate limit reached. Sleeping for: 447\n"
     ]
    },
    {
     "name": "stdout",
     "output_type": "stream",
     "text": [
      "End Reached\n",
      "AMD\tEntries: 1489\tUpdated: 1486\tNew: 3\n",
      "End Reached\n",
      "BBBY\tEntries: 131\tUpdated: 131\tNew: 0\n"
     ]
    },
    {
     "name": "stderr",
     "output_type": "stream",
     "text": [
      "Rate limit reached. Sleeping for: 429\n",
      "Rate limit reached. Sleeping for: 5\n",
      "Rate limit reached. Sleeping for: 422\n",
      "Rate limit reached. Sleeping for: 489\n",
      "Rate limit reached. Sleeping for: 496\n",
      "Rate limit reached. Sleeping for: 477\n",
      "Rate limit reached. Sleeping for: 438\n",
      "Rate limit reached. Sleeping for: 498\n"
     ]
    },
    {
     "name": "stdout",
     "output_type": "stream",
     "text": [
      "End Reached\n",
      "AAPL\tEntries: 38981\tUpdated: 38851\tNew: 130\n"
     ]
    },
    {
     "name": "stderr",
     "output_type": "stream",
     "text": [
      "Rate limit reached. Sleeping for: 423\n"
     ]
    },
    {
     "name": "stdout",
     "output_type": "stream",
     "text": [
      "End Reached\n",
      "TSLA\tEntries: 5406\tUpdated: 5396\tNew: 10\n"
     ]
    },
    {
     "name": "stderr",
     "output_type": "stream",
     "text": [
      "Rate limit reached. Sleeping for: 448\n"
     ]
    },
    {
     "name": "stdout",
     "output_type": "stream",
     "text": [
      "End Reached\n",
      "MSFT\tEntries: 6874\tUpdated: 6848\tNew: 26\n",
      "End Reached\n",
      "AMD\tEntries: 1473\tUpdated: 1470\tNew: 3\n"
     ]
    },
    {
     "name": "stderr",
     "output_type": "stream",
     "text": [
      "Rate limit reached. Sleeping for: 472\n"
     ]
    },
    {
     "name": "stdout",
     "output_type": "stream",
     "text": [
      "End Reached\n",
      "BBBY\tEntries: 131\tUpdated: 131\tNew: 0\n"
     ]
    },
    {
     "name": "stderr",
     "output_type": "stream",
     "text": [
      "Rate limit reached. Sleeping for: 506\n",
      "Rate limit reached. Sleeping for: 497\n",
      "Rate limit reached. Sleeping for: 511\n",
      "Rate limit reached. Sleeping for: 514\n",
      "Rate limit reached. Sleeping for: 525\n",
      "Rate limit reached. Sleeping for: 506\n",
      "Rate limit reached. Sleeping for: 510\n"
     ]
    },
    {
     "name": "stdout",
     "output_type": "stream",
     "text": [
      "End Reached\n",
      "AAPL\tEntries: 38903\tUpdated: 38799\tNew: 104\n"
     ]
    },
    {
     "name": "stderr",
     "output_type": "stream",
     "text": [
      "Rate limit reached. Sleeping for: 514\n"
     ]
    },
    {
     "name": "stdout",
     "output_type": "stream",
     "text": [
      "End Reached\n",
      "TSLA\tEntries: 5396\tUpdated: 5391\tNew: 5\n"
     ]
    },
    {
     "name": "stderr",
     "output_type": "stream",
     "text": [
      "Rate limit reached. Sleeping for: 514\n"
     ]
    },
    {
     "name": "stdout",
     "output_type": "stream",
     "text": [
      "End Reached\n",
      "MSFT\tEntries: 6886\tUpdated: 6868\tNew: 18\n",
      "End Reached\n",
      "AMD\tEntries: 1448\tUpdated: 1443\tNew: 5\n",
      "End Reached\n",
      "BBBY\tEntries: 131\tUpdated: 131\tNew: 0\n"
     ]
    },
    {
     "name": "stderr",
     "output_type": "stream",
     "text": [
      "Rate limit reached. Sleeping for: 520\n",
      "Rate limit reached. Sleeping for: 538\n",
      "Rate limit reached. Sleeping for: 515\n",
      "Rate limit reached. Sleeping for: 521\n",
      "Rate limit reached. Sleeping for: 510\n",
      "Rate limit reached. Sleeping for: 3\n",
      "Rate limit reached. Sleeping for: 513\n",
      "Rate limit reached. Sleeping for: 525\n",
      "Rate limit reached. Sleeping for: 518\n"
     ]
    },
    {
     "name": "stdout",
     "output_type": "stream",
     "text": [
      "End Reached\n",
      "AAPL\tEntries: 39057\tUpdated: 38993\tNew: 64\n"
     ]
    },
    {
     "name": "stderr",
     "output_type": "stream",
     "text": [
      "Rate limit reached. Sleeping for: 512\n"
     ]
    },
    {
     "name": "stdout",
     "output_type": "stream",
     "text": [
      "End Reached\n",
      "TSLA\tEntries: 5456\tUpdated: 5453\tNew: 3\n"
     ]
    },
    {
     "name": "stderr",
     "output_type": "stream",
     "text": [
      "Rate limit reached. Sleeping for: 517\n"
     ]
    },
    {
     "name": "stdout",
     "output_type": "stream",
     "text": [
      "End Reached\n",
      "MSFT\tEntries: 7044\tUpdated: 7007\tNew: 37\n",
      "End Reached\n",
      "AMD\tEntries: 1446\tUpdated: 1445\tNew: 1\n"
     ]
    },
    {
     "name": "stderr",
     "output_type": "stream",
     "text": [
      "Rate limit reached. Sleeping for: 512\n"
     ]
    },
    {
     "name": "stdout",
     "output_type": "stream",
     "text": [
      "End Reached\n",
      "BBBY\tEntries: 130\tUpdated: 130\tNew: 0\n"
     ]
    },
    {
     "name": "stderr",
     "output_type": "stream",
     "text": [
      "Rate limit reached. Sleeping for: 531\n",
      "Rate limit reached. Sleeping for: 488\n",
      "Rate limit reached. Sleeping for: 519\n",
      "Rate limit reached. Sleeping for: 512\n",
      "Rate limit reached. Sleeping for: 520\n"
     ]
    }
   ],
   "source": [
    "twt=10000\n",
    "while True:\n",
    "    SearchStore(\"Apple\",\"AAPL\",count=twt)\n",
    "    SearchStore(\"Tesla\",\"TSLA\",count=twt)\n",
    "    SearchStore(\"Microsoft\",\"MSFT\",count=twt)\n",
    "    SearchStore(\"AMD\",\"AMD\",count=twt)\n",
    "    SearchStore(\"Bed Bath and Beyond\",\"BBBY\",count=twt)\n",
    "    twt+=twt"
   ]
  },
  {
   "cell_type": "code",
   "execution_count": null,
   "metadata": {},
   "outputs": [],
   "source": []
  }
 ],
 "metadata": {
  "kernelspec": {
   "display_name": "Python 3",
   "language": "python",
   "name": "python3"
  },
  "language_info": {
   "codemirror_mode": {
    "name": "ipython",
    "version": 3
   },
   "file_extension": ".py",
   "mimetype": "text/x-python",
   "name": "python",
   "nbconvert_exporter": "python",
   "pygments_lexer": "ipython3",
   "version": "3.8.8"
  }
 },
 "nbformat": 4,
 "nbformat_minor": 4
}
