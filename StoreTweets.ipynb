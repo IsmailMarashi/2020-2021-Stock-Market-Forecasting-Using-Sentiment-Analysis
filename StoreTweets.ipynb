{
 "cells": [
  {
   "cell_type": "code",
   "execution_count": 1,
   "metadata": {
    "ExecuteTime": {
     "end_time": "2021-04-16T10:18:11.731843Z",
     "start_time": "2021-04-16T10:18:02.033717Z"
    },
    "scrolled": false
   },
   "outputs": [
    {
     "data": {
      "text/html": [
       "<style>.container { width:70% !important; }</style>"
      ],
      "text/plain": [
       "<IPython.core.display.HTML object>"
      ]
     },
     "metadata": {},
     "output_type": "display_data"
    },
    {
     "name": "stdout",
     "output_type": "stream",
     "text": [
      "Growth SET\n",
      "GPU ACTIVE\n",
      "{'limit': 15, 'remaining': 15, 'reset': 1618569191}\n",
      "{'limit': 900, 'remaining': 900, 'reset': 1618569191}\n",
      "sentimentDB exists.\n",
      "Database(MongoClient(host=['localhost:27017'], document_class=dict, tz_aware=False, connect=True), 'sentimentDB')\n"
     ]
    }
   ],
   "source": [
    "%run StoreTweetsBackend.ipynb"
   ]
  },
  {
   "cell_type": "code",
   "execution_count": 2,
   "metadata": {
    "ExecuteTime": {
     "end_time": "2021-04-05T11:17:19.357470Z",
     "start_time": "2021-04-05T11:17:19.342512Z"
    },
    "scrolled": false
   },
   "outputs": [
    {
     "ename": "SyntaxError",
     "evalue": "invalid syntax (<ipython-input-2-f15fc06ad883>, line 3)",
     "output_type": "error",
     "traceback": [
      "\u001b[1;36m  File \u001b[1;32m\"<ipython-input-2-f15fc06ad883>\"\u001b[1;36m, line \u001b[1;32m3\u001b[0m\n\u001b[1;33m    SearchStore(\"Apple\",\"AAPL\",,count=twt)\u001b[0m\n\u001b[1;37m                               ^\u001b[0m\n\u001b[1;31mSyntaxError\u001b[0m\u001b[1;31m:\u001b[0m invalid syntax\n"
     ]
    }
   ],
   "source": [
    "twt=10000\n",
    "while True:\n",
    "    SearchStore(\"Apple\",\"AAPL\",count=twt)\n",
    "    SearchStore(\"Tesla\",\"TSLA\",count=twt)\n",
    "    SearchStore(\"Microsoft\",\"MSFT\",count=twt)\n",
    "    SearchStore(\"AMD\",\"AMD\",count=twt)\n",
    "    SearchStore(\"Bed Bath and Beyond\",\"BBBY\",count=twt)\n",
    "    twt+=twt"
   ]
  },
  {
   "cell_type": "code",
   "execution_count": 2,
   "metadata": {
    "ExecuteTime": {
     "end_time": "2021-04-16T10:18:11.778717Z",
     "start_time": "2021-04-16T10:18:11.763758Z"
    }
   },
   "outputs": [],
   "source": [
    "twt=10000"
   ]
  },
  {
   "cell_type": "code",
   "execution_count": null,
   "metadata": {
    "ExecuteTime": {
     "start_time": "2021-04-16T10:18:07.845Z"
    },
    "code_folding": [],
    "scrolled": true
   },
   "outputs": [
    {
     "name": "stdout",
     "output_type": "stream",
     "text": [
      "Tesla :  10000\n",
      "2021-03-16 \t 2021-03-17\n",
      "End Reached\n",
      "TSLA\tEntries: 0\tUpdated: 0\tNew: 0\n",
      "2021-03-17 \t 2021-03-18\n",
      "End Reached\n",
      "TSLA\tEntries: 0\tUpdated: 0\tNew: 0\n",
      "2021-03-18 \t 2021-03-19\n",
      "End Reached\n",
      "TSLA\tEntries: 0\tUpdated: 0\tNew: 0\n",
      "2021-03-19 \t 2021-03-20\n",
      "End Reached\n",
      "TSLA\tEntries: 0\tUpdated: 0\tNew: 0\n",
      "2021-03-20 \t 2021-03-21\n",
      "End Reached\n",
      "TSLA\tEntries: 0\tUpdated: 0\tNew: 0\n",
      "2021-03-21 \t 2021-03-22\n",
      "End Reached\n",
      "TSLA\tEntries: 0\tUpdated: 0\tNew: 0\n",
      "2021-03-22 \t 2021-03-23\n",
      "End Reached\n",
      "TSLA\tEntries: 0\tUpdated: 0\tNew: 0\n",
      "2021-03-23 \t 2021-03-24\n",
      "End Reached\n",
      "TSLA\tEntries: 0\tUpdated: 0\tNew: 0\n",
      "2021-03-24 \t 2021-03-25\n",
      "End Reached\n",
      "TSLA\tEntries: 0\tUpdated: 0\tNew: 0\n",
      "2021-03-25 \t 2021-03-26\n",
      "End Reached\n",
      "TSLA\tEntries: 0\tUpdated: 0\tNew: 0\n",
      "2021-03-26 \t 2021-03-27\n",
      "End Reached\n",
      "TSLA\tEntries: 0\tUpdated: 0\tNew: 0\n",
      "2021-03-27 \t 2021-03-28\n",
      "End Reached\n",
      "TSLA\tEntries: 0\tUpdated: 0\tNew: 0\n",
      "2021-03-28 \t 2021-03-29\n",
      "End Reached\n",
      "TSLA\tEntries: 0\tUpdated: 0\tNew: 0\n",
      "2021-03-29 \t 2021-03-30\n",
      "End Reached\n",
      "TSLA\tEntries: 0\tUpdated: 0\tNew: 0\n",
      "2021-03-30 \t 2021-03-31\n",
      "End Reached\n",
      "TSLA\tEntries: 0\tUpdated: 0\tNew: 0\n",
      "2021-03-31 \t 2021-04-01\n",
      "End Reached\n",
      "TSLA\tEntries: 0\tUpdated: 0\tNew: 0\n",
      "2021-04-01 \t 2021-04-02\n",
      "End Reached\n",
      "TSLA\tEntries: 0\tUpdated: 0\tNew: 0\n",
      "2021-04-02 \t 2021-04-03\n",
      "End Reached\n",
      "TSLA\tEntries: 0\tUpdated: 0\tNew: 0\n",
      "2021-04-03 \t 2021-04-04\n",
      "End Reached\n",
      "TSLA\tEntries: 0\tUpdated: 0\tNew: 0\n",
      "2021-04-04 \t 2021-04-05\n",
      "End Reached\n",
      "TSLA\tEntries: 0\tUpdated: 0\tNew: 0\n",
      "2021-04-05 \t 2021-04-06\n",
      "End Reached\n",
      "TSLA\tEntries: 0\tUpdated: 0\tNew: 0\n",
      "2021-04-06 \t 2021-04-07\n",
      "End Reached\n",
      "TSLA\tEntries: 0\tUpdated: 0\tNew: 0\n",
      "2021-04-07 \t 2021-04-08\n",
      "End Reached\n",
      "TSLA\tEntries: 0\tUpdated: 0\tNew: 0\n",
      "2021-04-08 \t 2021-04-09\n",
      "End Reached\n",
      "TSLA\tEntries: 446\tUpdated: 446\tNew: 0\n",
      "2021-04-09 \t 2021-04-10\n",
      "End Reached\n",
      "TSLA\tEntries: 574\tUpdated: 574\tNew: 0\n",
      "2021-04-10 \t 2021-04-11\n",
      "End Reached\n",
      "TSLA\tEntries: 435\tUpdated: 433\tNew: 2\n",
      "2021-04-11 \t 2021-04-12\n",
      "End Reached\n",
      "TSLA\tEntries: 389\tUpdated: 388\tNew: 1\n",
      "2021-04-12 \t 2021-04-13\n",
      "End Reached\n",
      "TSLA\tEntries: 652\tUpdated: 648\tNew: 4\n",
      "2021-04-13 \t 2021-04-14\n",
      "End Reached\n",
      "TSLA\tEntries: 612\tUpdated: 602\tNew: 10\n",
      "2021-04-14 \t 2021-04-15\n",
      "End Reached\n",
      "TSLA\tEntries: 555\tUpdated: 540\tNew: 15\n",
      "2021-04-15 \t 2021-04-16\n",
      "End Reached\n",
      "TSLA\tEntries: 571\tUpdated: 0\tNew: 571\n",
      "Microsoft :  10000\n",
      "2021-03-16 \t 2021-03-17\n",
      "End Reached\n",
      "MSFT\tEntries: 0\tUpdated: 0\tNew: 0\n",
      "2021-03-17 \t 2021-03-18\n",
      "End Reached\n",
      "MSFT\tEntries: 0\tUpdated: 0\tNew: 0\n",
      "2021-03-18 \t 2021-03-19\n",
      "End Reached\n",
      "MSFT\tEntries: 0\tUpdated: 0\tNew: 0\n",
      "2021-03-19 \t 2021-03-20\n",
      "End Reached\n",
      "MSFT\tEntries: 0\tUpdated: 0\tNew: 0\n",
      "2021-03-20 \t 2021-03-21\n",
      "End Reached\n",
      "MSFT\tEntries: 0\tUpdated: 0\tNew: 0\n",
      "2021-03-21 \t 2021-03-22\n",
      "End Reached\n",
      "MSFT\tEntries: 0\tUpdated: 0\tNew: 0\n",
      "2021-03-22 \t 2021-03-23\n",
      "End Reached\n",
      "MSFT\tEntries: 0\tUpdated: 0\tNew: 0\n",
      "2021-03-23 \t 2021-03-24\n",
      "End Reached\n",
      "MSFT\tEntries: 0\tUpdated: 0\tNew: 0\n",
      "2021-03-24 \t 2021-03-25\n",
      "End Reached\n",
      "MSFT\tEntries: 0\tUpdated: 0\tNew: 0\n",
      "2021-03-25 \t 2021-03-26\n",
      "End Reached\n",
      "MSFT\tEntries: 0\tUpdated: 0\tNew: 0\n",
      "2021-03-26 \t 2021-03-27\n",
      "End Reached\n",
      "MSFT\tEntries: 0\tUpdated: 0\tNew: 0\n",
      "2021-03-27 \t 2021-03-28\n",
      "End Reached\n",
      "MSFT\tEntries: 0\tUpdated: 0\tNew: 0\n",
      "2021-03-28 \t 2021-03-29\n",
      "End Reached\n",
      "MSFT\tEntries: 0\tUpdated: 0\tNew: 0\n",
      "2021-03-29 \t 2021-03-30\n",
      "End Reached\n",
      "MSFT\tEntries: 0\tUpdated: 0\tNew: 0\n",
      "2021-03-30 \t 2021-03-31\n",
      "End Reached\n",
      "MSFT\tEntries: 0\tUpdated: 0\tNew: 0\n",
      "2021-03-31 \t 2021-04-01\n",
      "End Reached\n",
      "MSFT\tEntries: 0\tUpdated: 0\tNew: 0\n",
      "2021-04-01 \t 2021-04-02\n",
      "End Reached\n",
      "MSFT\tEntries: 0\tUpdated: 0\tNew: 0\n",
      "2021-04-02 \t 2021-04-03\n",
      "End Reached\n",
      "MSFT\tEntries: 0\tUpdated: 0\tNew: 0\n",
      "2021-04-03 \t 2021-04-04\n",
      "End Reached\n",
      "MSFT\tEntries: 0\tUpdated: 0\tNew: 0\n",
      "2021-04-04 \t 2021-04-05\n",
      "End Reached\n",
      "MSFT\tEntries: 0\tUpdated: 0\tNew: 0\n",
      "2021-04-05 \t 2021-04-06\n",
      "End Reached\n",
      "MSFT\tEntries: 0\tUpdated: 0\tNew: 0\n",
      "2021-04-06 \t 2021-04-07\n",
      "End Reached\n",
      "MSFT\tEntries: 0\tUpdated: 0\tNew: 0\n",
      "2021-04-07 \t 2021-04-08\n",
      "End Reached\n",
      "MSFT\tEntries: 0\tUpdated: 0\tNew: 0\n",
      "2021-04-08 \t 2021-04-09\n"
     ]
    },
    {
     "name": "stderr",
     "output_type": "stream",
     "text": [
      "Rate limit reached. Sleeping for: 529\n"
     ]
    }
   ],
   "source": [
    "SweepStore(\"Tesla\",\"TSLA\",count=twt)\n",
    "SweepStore(\"Microsoft\",\"MSFT\",count=twt)\n",
    "SweepStore(\"AMD\",\"AMD\",count=twt)\n",
    "SweepStore(\"Bed Bath and Beyond\",\"BBBY\",count=twt)\n",
    "SweepStore(\"Apple\",\"AAPL\",count=twt)\n",
    "twt+=twt"
   ]
  },
  {
   "cell_type": "code",
   "execution_count": null,
   "metadata": {},
   "outputs": [],
   "source": []
  }
 ],
 "metadata": {
  "kernelspec": {
   "display_name": "Python 3",
   "language": "python",
   "name": "python3"
  },
  "language_info": {
   "codemirror_mode": {
    "name": "ipython",
    "version": 3
   },
   "file_extension": ".py",
   "mimetype": "text/x-python",
   "name": "python",
   "nbconvert_exporter": "python",
   "pygments_lexer": "ipython3",
   "version": "3.8.8"
  },
  "toc": {
   "base_numbering": 1,
   "nav_menu": {},
   "number_sections": true,
   "sideBar": true,
   "skip_h1_title": false,
   "title_cell": "Table of Contents",
   "title_sidebar": "Contents",
   "toc_cell": false,
   "toc_position": {},
   "toc_section_display": true,
   "toc_window_display": false
  },
  "varInspector": {
   "cols": {
    "lenName": 16,
    "lenType": 16,
    "lenVar": 40
   },
   "kernels_config": {
    "python": {
     "delete_cmd_postfix": "",
     "delete_cmd_prefix": "del ",
     "library": "var_list.py",
     "varRefreshCmd": "print(var_dic_list())"
    },
    "r": {
     "delete_cmd_postfix": ") ",
     "delete_cmd_prefix": "rm(",
     "library": "var_list.r",
     "varRefreshCmd": "cat(var_dic_list()) "
    }
   },
   "types_to_exclude": [
    "module",
    "function",
    "builtin_function_or_method",
    "instance",
    "_Feature"
   ],
   "window_display": false
  }
 },
 "nbformat": 4,
 "nbformat_minor": 4
}
